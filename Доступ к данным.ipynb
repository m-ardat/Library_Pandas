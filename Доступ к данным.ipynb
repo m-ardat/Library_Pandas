{
 "cells": [
  {
   "cell_type": "markdown",
   "id": "bd3c5f2b-f5da-4f3f-9cff-dd94418cc4a3",
   "metadata": {},
   "source": [
    "# Доступ к данным"
   ]
  },
  {
   "cell_type": "markdown",
   "id": "a4f37385-2c37-4fd1-9877-4111dfc653b7",
   "metadata": {},
   "source": [
    "Импорт библиотек"
   ]
  },
  {
   "cell_type": "code",
   "execution_count": 1,
   "id": "3d298378-9a50-4485-bb72-9b5905381708",
   "metadata": {},
   "outputs": [],
   "source": [
    "import pandas as pd\n",
    "import numpy as np"
   ]
  },
  {
   "cell_type": "markdown",
   "id": "2bf802fa-cd12-41b7-b5e0-59d1476fc736",
   "metadata": {},
   "source": [
    "## Доступ к строкам"
   ]
  },
  {
   "cell_type": "markdown",
   "id": "c039be5e-ebd5-48b0-9f87-255ba9dfe35c",
   "metadata": {},
   "source": [
    "**Датафрейм с числовой индексацией**\n",
    "\r\n",
    "У нас есть данные - цены на акции компании Google (Alphabet Inc.) за определенные дни. В каждом списке списка dat aприсутствую  следующие данные:\n",
    "-  дата торгов\n",
    "-  цена открытия\n",
    "-  максимальная цена за торговый день\n",
    "-  минимальная цена и цена, по которой закрылась торговая сессия."
   ]
  },
  {
   "cell_type": "code",
   "execution_count": 2,
   "id": "52ffdef7-0ae1-4483-a920-e013da6de65f",
   "metadata": {},
   "outputs": [],
   "source": [
    "data = [['2023-06-01',122.820000,124.419998,122.620003,123.720001],\n",
    "['2023-06-02',123.989998,126.150002,123.760002,124.669998],\n",
    "['2023-06-05',124.010002,127.430000,123.839996,126.010002],\n",
    "['2023-06-06',126.010002,128.289993,125.360001,127.309998],\n",
    "['2023-06-07',126.970001,129.039993,122.120003,122.500000],\n",
    "['2023-06-08',122.230003,123.230003,121.239998,122.139999],\n",
    "['2023-06-09',122.250000,123.760002,121.910004,122.230003],\n",
    "['2023-06-12',122.790001,124.050003,121.660004,123.639999],\n",
    "['2023-06-13',124.980003,125.160004,123.180000,123.830002],\n",
    "['2023-06-14',123.099998,124.050003,121.449997,123.669998],\n",
    "['2023-06-15',123.139999,125.459999,122.400002,125.089996],\n",
    "['2023-06-16',125.930000,126.110001,123.279999,123.529999]]\n",
    "col = ['date','open','high','low','close']"
   ]
  },
  {
   "cell_type": "markdown",
   "id": "66e03d4e-31e0-4e76-b258-e4fd86f61d22",
   "metadata": {},
   "source": [
    "Создаём датафрейм и приводим столбец 'date' к типу datetime64[ns]:"
   ]
  },
  {
   "cell_type": "code",
   "execution_count": 3,
   "id": "bd4f9667-d93f-4ce5-a498-239493451e55",
   "metadata": {},
   "outputs": [],
   "source": [
    "google = pd.DataFrame(data, columns=col)\n",
    "google['date'] = pd.to_datetime(google['date'])"
   ]
  },
  {
   "cell_type": "code",
   "execution_count": 4,
   "id": "dacb6a50-e068-44d1-ab7a-2771bcdac5f4",
   "metadata": {},
   "outputs": [
    {
     "data": {
      "text/html": [
       "<div>\n",
       "<style scoped>\n",
       "    .dataframe tbody tr th:only-of-type {\n",
       "        vertical-align: middle;\n",
       "    }\n",
       "\n",
       "    .dataframe tbody tr th {\n",
       "        vertical-align: top;\n",
       "    }\n",
       "\n",
       "    .dataframe thead th {\n",
       "        text-align: right;\n",
       "    }\n",
       "</style>\n",
       "<table border=\"1\" class=\"dataframe\">\n",
       "  <thead>\n",
       "    <tr style=\"text-align: right;\">\n",
       "      <th></th>\n",
       "      <th>date</th>\n",
       "      <th>open</th>\n",
       "      <th>high</th>\n",
       "      <th>low</th>\n",
       "      <th>close</th>\n",
       "    </tr>\n",
       "  </thead>\n",
       "  <tbody>\n",
       "    <tr>\n",
       "      <th>0</th>\n",
       "      <td>2023-06-01</td>\n",
       "      <td>122.820000</td>\n",
       "      <td>124.419998</td>\n",
       "      <td>122.620003</td>\n",
       "      <td>123.720001</td>\n",
       "    </tr>\n",
       "    <tr>\n",
       "      <th>1</th>\n",
       "      <td>2023-06-02</td>\n",
       "      <td>123.989998</td>\n",
       "      <td>126.150002</td>\n",
       "      <td>123.760002</td>\n",
       "      <td>124.669998</td>\n",
       "    </tr>\n",
       "    <tr>\n",
       "      <th>2</th>\n",
       "      <td>2023-06-05</td>\n",
       "      <td>124.010002</td>\n",
       "      <td>127.430000</td>\n",
       "      <td>123.839996</td>\n",
       "      <td>126.010002</td>\n",
       "    </tr>\n",
       "    <tr>\n",
       "      <th>3</th>\n",
       "      <td>2023-06-06</td>\n",
       "      <td>126.010002</td>\n",
       "      <td>128.289993</td>\n",
       "      <td>125.360001</td>\n",
       "      <td>127.309998</td>\n",
       "    </tr>\n",
       "    <tr>\n",
       "      <th>4</th>\n",
       "      <td>2023-06-07</td>\n",
       "      <td>126.970001</td>\n",
       "      <td>129.039993</td>\n",
       "      <td>122.120003</td>\n",
       "      <td>122.500000</td>\n",
       "    </tr>\n",
       "  </tbody>\n",
       "</table>\n",
       "</div>"
      ],
      "text/plain": [
       "        date        open        high         low       close\n",
       "0 2023-06-01  122.820000  124.419998  122.620003  123.720001\n",
       "1 2023-06-02  123.989998  126.150002  123.760002  124.669998\n",
       "2 2023-06-05  124.010002  127.430000  123.839996  126.010002\n",
       "3 2023-06-06  126.010002  128.289993  125.360001  127.309998\n",
       "4 2023-06-07  126.970001  129.039993  122.120003  122.500000"
      ]
     },
     "metadata": {},
     "output_type": "display_data"
    }
   ],
   "source": [
    "display(google.head())  # команда в Jupyter Notebook"
   ]
  },
  {
   "cell_type": "markdown",
   "id": "b10927d0-8d95-4689-ab6f-af42b81d3c04",
   "metadata": {},
   "source": [
    "Доступ к строке доступен через срез:"
   ]
  },
  {
   "cell_type": "code",
   "execution_count": 5,
   "id": "e2792770-5f95-44ef-8543-f0326b9ecb92",
   "metadata": {},
   "outputs": [
    {
     "data": {
      "text/html": [
       "<div>\n",
       "<style scoped>\n",
       "    .dataframe tbody tr th:only-of-type {\n",
       "        vertical-align: middle;\n",
       "    }\n",
       "\n",
       "    .dataframe tbody tr th {\n",
       "        vertical-align: top;\n",
       "    }\n",
       "\n",
       "    .dataframe thead th {\n",
       "        text-align: right;\n",
       "    }\n",
       "</style>\n",
       "<table border=\"1\" class=\"dataframe\">\n",
       "  <thead>\n",
       "    <tr style=\"text-align: right;\">\n",
       "      <th></th>\n",
       "      <th>date</th>\n",
       "      <th>open</th>\n",
       "      <th>high</th>\n",
       "      <th>low</th>\n",
       "      <th>close</th>\n",
       "    </tr>\n",
       "  </thead>\n",
       "  <tbody>\n",
       "    <tr>\n",
       "      <th>2</th>\n",
       "      <td>2023-06-05</td>\n",
       "      <td>124.010002</td>\n",
       "      <td>127.43</td>\n",
       "      <td>123.839996</td>\n",
       "      <td>126.010002</td>\n",
       "    </tr>\n",
       "  </tbody>\n",
       "</table>\n",
       "</div>"
      ],
      "text/plain": [
       "        date        open    high         low       close\n",
       "2 2023-06-05  124.010002  127.43  123.839996  126.010002"
      ]
     },
     "execution_count": 5,
     "metadata": {},
     "output_type": "execute_result"
    }
   ],
   "source": [
    "google[2:3]"
   ]
  },
  {
   "cell_type": "markdown",
   "id": "ddb3ca5c-2d56-4722-886c-54ace7f0dbf6",
   "metadata": {},
   "source": [
    "Если необходим доступ к нескольким строкам, то так же работаем через срез:"
   ]
  },
  {
   "cell_type": "code",
   "execution_count": 6,
   "id": "9340cfe4-7a60-4b6b-a3fa-4d0ce8807bff",
   "metadata": {},
   "outputs": [
    {
     "data": {
      "text/html": [
       "<div>\n",
       "<style scoped>\n",
       "    .dataframe tbody tr th:only-of-type {\n",
       "        vertical-align: middle;\n",
       "    }\n",
       "\n",
       "    .dataframe tbody tr th {\n",
       "        vertical-align: top;\n",
       "    }\n",
       "\n",
       "    .dataframe thead th {\n",
       "        text-align: right;\n",
       "    }\n",
       "</style>\n",
       "<table border=\"1\" class=\"dataframe\">\n",
       "  <thead>\n",
       "    <tr style=\"text-align: right;\">\n",
       "      <th></th>\n",
       "      <th>date</th>\n",
       "      <th>open</th>\n",
       "      <th>high</th>\n",
       "      <th>low</th>\n",
       "      <th>close</th>\n",
       "    </tr>\n",
       "  </thead>\n",
       "  <tbody>\n",
       "    <tr>\n",
       "      <th>0</th>\n",
       "      <td>2023-06-01</td>\n",
       "      <td>122.820000</td>\n",
       "      <td>124.419998</td>\n",
       "      <td>122.620003</td>\n",
       "      <td>123.720001</td>\n",
       "    </tr>\n",
       "    <tr>\n",
       "      <th>1</th>\n",
       "      <td>2023-06-02</td>\n",
       "      <td>123.989998</td>\n",
       "      <td>126.150002</td>\n",
       "      <td>123.760002</td>\n",
       "      <td>124.669998</td>\n",
       "    </tr>\n",
       "    <tr>\n",
       "      <th>2</th>\n",
       "      <td>2023-06-05</td>\n",
       "      <td>124.010002</td>\n",
       "      <td>127.430000</td>\n",
       "      <td>123.839996</td>\n",
       "      <td>126.010002</td>\n",
       "    </tr>\n",
       "  </tbody>\n",
       "</table>\n",
       "</div>"
      ],
      "text/plain": [
       "        date        open        high         low       close\n",
       "0 2023-06-01  122.820000  124.419998  122.620003  123.720001\n",
       "1 2023-06-02  123.989998  126.150002  123.760002  124.669998\n",
       "2 2023-06-05  124.010002  127.430000  123.839996  126.010002"
      ]
     },
     "execution_count": 6,
     "metadata": {},
     "output_type": "execute_result"
    }
   ],
   "source": [
    "google[0:3]"
   ]
  },
  {
   "cell_type": "markdown",
   "id": "d78093b3-fe6b-4369-9b7c-3964d8125f9f",
   "metadata": {},
   "source": [
    "Или же нам нужна каждая третья строка:"
   ]
  },
  {
   "cell_type": "code",
   "execution_count": 7,
   "id": "d2242920-dd5b-4113-a1b8-1fe99ebc3cf9",
   "metadata": {},
   "outputs": [
    {
     "data": {
      "text/html": [
       "<div>\n",
       "<style scoped>\n",
       "    .dataframe tbody tr th:only-of-type {\n",
       "        vertical-align: middle;\n",
       "    }\n",
       "\n",
       "    .dataframe tbody tr th {\n",
       "        vertical-align: top;\n",
       "    }\n",
       "\n",
       "    .dataframe thead th {\n",
       "        text-align: right;\n",
       "    }\n",
       "</style>\n",
       "<table border=\"1\" class=\"dataframe\">\n",
       "  <thead>\n",
       "    <tr style=\"text-align: right;\">\n",
       "      <th></th>\n",
       "      <th>date</th>\n",
       "      <th>open</th>\n",
       "      <th>high</th>\n",
       "      <th>low</th>\n",
       "      <th>close</th>\n",
       "    </tr>\n",
       "  </thead>\n",
       "  <tbody>\n",
       "    <tr>\n",
       "      <th>0</th>\n",
       "      <td>2023-06-01</td>\n",
       "      <td>122.820000</td>\n",
       "      <td>124.419998</td>\n",
       "      <td>122.620003</td>\n",
       "      <td>123.720001</td>\n",
       "    </tr>\n",
       "    <tr>\n",
       "      <th>3</th>\n",
       "      <td>2023-06-06</td>\n",
       "      <td>126.010002</td>\n",
       "      <td>128.289993</td>\n",
       "      <td>125.360001</td>\n",
       "      <td>127.309998</td>\n",
       "    </tr>\n",
       "    <tr>\n",
       "      <th>6</th>\n",
       "      <td>2023-06-09</td>\n",
       "      <td>122.250000</td>\n",
       "      <td>123.760002</td>\n",
       "      <td>121.910004</td>\n",
       "      <td>122.230003</td>\n",
       "    </tr>\n",
       "    <tr>\n",
       "      <th>9</th>\n",
       "      <td>2023-06-14</td>\n",
       "      <td>123.099998</td>\n",
       "      <td>124.050003</td>\n",
       "      <td>121.449997</td>\n",
       "      <td>123.669998</td>\n",
       "    </tr>\n",
       "  </tbody>\n",
       "</table>\n",
       "</div>"
      ],
      "text/plain": [
       "        date        open        high         low       close\n",
       "0 2023-06-01  122.820000  124.419998  122.620003  123.720001\n",
       "3 2023-06-06  126.010002  128.289993  125.360001  127.309998\n",
       "6 2023-06-09  122.250000  123.760002  121.910004  122.230003\n",
       "9 2023-06-14  123.099998  124.050003  121.449997  123.669998"
      ]
     },
     "execution_count": 7,
     "metadata": {},
     "output_type": "execute_result"
    }
   ],
   "source": [
    "google[::3]"
   ]
  },
  {
   "cell_type": "markdown",
   "id": "8c368070-e9b9-4a93-a4b1-885584a9259c",
   "metadata": {},
   "source": [
    "\"Перевернём\" наш датафрейм:"
   ]
  },
  {
   "cell_type": "code",
   "execution_count": 8,
   "id": "116ba539-e9cd-4a0c-a85e-f0b42d8a30da",
   "metadata": {},
   "outputs": [
    {
     "data": {
      "text/html": [
       "<div>\n",
       "<style scoped>\n",
       "    .dataframe tbody tr th:only-of-type {\n",
       "        vertical-align: middle;\n",
       "    }\n",
       "\n",
       "    .dataframe tbody tr th {\n",
       "        vertical-align: top;\n",
       "    }\n",
       "\n",
       "    .dataframe thead th {\n",
       "        text-align: right;\n",
       "    }\n",
       "</style>\n",
       "<table border=\"1\" class=\"dataframe\">\n",
       "  <thead>\n",
       "    <tr style=\"text-align: right;\">\n",
       "      <th></th>\n",
       "      <th>date</th>\n",
       "      <th>open</th>\n",
       "      <th>high</th>\n",
       "      <th>low</th>\n",
       "      <th>close</th>\n",
       "    </tr>\n",
       "  </thead>\n",
       "  <tbody>\n",
       "    <tr>\n",
       "      <th>11</th>\n",
       "      <td>2023-06-16</td>\n",
       "      <td>125.930000</td>\n",
       "      <td>126.110001</td>\n",
       "      <td>123.279999</td>\n",
       "      <td>123.529999</td>\n",
       "    </tr>\n",
       "    <tr>\n",
       "      <th>10</th>\n",
       "      <td>2023-06-15</td>\n",
       "      <td>123.139999</td>\n",
       "      <td>125.459999</td>\n",
       "      <td>122.400002</td>\n",
       "      <td>125.089996</td>\n",
       "    </tr>\n",
       "    <tr>\n",
       "      <th>9</th>\n",
       "      <td>2023-06-14</td>\n",
       "      <td>123.099998</td>\n",
       "      <td>124.050003</td>\n",
       "      <td>121.449997</td>\n",
       "      <td>123.669998</td>\n",
       "    </tr>\n",
       "    <tr>\n",
       "      <th>8</th>\n",
       "      <td>2023-06-13</td>\n",
       "      <td>124.980003</td>\n",
       "      <td>125.160004</td>\n",
       "      <td>123.180000</td>\n",
       "      <td>123.830002</td>\n",
       "    </tr>\n",
       "    <tr>\n",
       "      <th>7</th>\n",
       "      <td>2023-06-12</td>\n",
       "      <td>122.790001</td>\n",
       "      <td>124.050003</td>\n",
       "      <td>121.660004</td>\n",
       "      <td>123.639999</td>\n",
       "    </tr>\n",
       "    <tr>\n",
       "      <th>6</th>\n",
       "      <td>2023-06-09</td>\n",
       "      <td>122.250000</td>\n",
       "      <td>123.760002</td>\n",
       "      <td>121.910004</td>\n",
       "      <td>122.230003</td>\n",
       "    </tr>\n",
       "    <tr>\n",
       "      <th>5</th>\n",
       "      <td>2023-06-08</td>\n",
       "      <td>122.230003</td>\n",
       "      <td>123.230003</td>\n",
       "      <td>121.239998</td>\n",
       "      <td>122.139999</td>\n",
       "    </tr>\n",
       "    <tr>\n",
       "      <th>4</th>\n",
       "      <td>2023-06-07</td>\n",
       "      <td>126.970001</td>\n",
       "      <td>129.039993</td>\n",
       "      <td>122.120003</td>\n",
       "      <td>122.500000</td>\n",
       "    </tr>\n",
       "    <tr>\n",
       "      <th>3</th>\n",
       "      <td>2023-06-06</td>\n",
       "      <td>126.010002</td>\n",
       "      <td>128.289993</td>\n",
       "      <td>125.360001</td>\n",
       "      <td>127.309998</td>\n",
       "    </tr>\n",
       "    <tr>\n",
       "      <th>2</th>\n",
       "      <td>2023-06-05</td>\n",
       "      <td>124.010002</td>\n",
       "      <td>127.430000</td>\n",
       "      <td>123.839996</td>\n",
       "      <td>126.010002</td>\n",
       "    </tr>\n",
       "    <tr>\n",
       "      <th>1</th>\n",
       "      <td>2023-06-02</td>\n",
       "      <td>123.989998</td>\n",
       "      <td>126.150002</td>\n",
       "      <td>123.760002</td>\n",
       "      <td>124.669998</td>\n",
       "    </tr>\n",
       "    <tr>\n",
       "      <th>0</th>\n",
       "      <td>2023-06-01</td>\n",
       "      <td>122.820000</td>\n",
       "      <td>124.419998</td>\n",
       "      <td>122.620003</td>\n",
       "      <td>123.720001</td>\n",
       "    </tr>\n",
       "  </tbody>\n",
       "</table>\n",
       "</div>"
      ],
      "text/plain": [
       "         date        open        high         low       close\n",
       "11 2023-06-16  125.930000  126.110001  123.279999  123.529999\n",
       "10 2023-06-15  123.139999  125.459999  122.400002  125.089996\n",
       "9  2023-06-14  123.099998  124.050003  121.449997  123.669998\n",
       "8  2023-06-13  124.980003  125.160004  123.180000  123.830002\n",
       "7  2023-06-12  122.790001  124.050003  121.660004  123.639999\n",
       "6  2023-06-09  122.250000  123.760002  121.910004  122.230003\n",
       "5  2023-06-08  122.230003  123.230003  121.239998  122.139999\n",
       "4  2023-06-07  126.970001  129.039993  122.120003  122.500000\n",
       "3  2023-06-06  126.010002  128.289993  125.360001  127.309998\n",
       "2  2023-06-05  124.010002  127.430000  123.839996  126.010002\n",
       "1  2023-06-02  123.989998  126.150002  123.760002  124.669998\n",
       "0  2023-06-01  122.820000  124.419998  122.620003  123.720001"
      ]
     },
     "execution_count": 8,
     "metadata": {},
     "output_type": "execute_result"
    }
   ],
   "source": [
    "google[::-1]"
   ]
  },
  {
   "cell_type": "markdown",
   "id": "d32a41dd-a272-46a5-b31a-55c3fcb308ec",
   "metadata": {},
   "source": [
    "**Датафрейм с нечисловыми метками индекса**"
   ]
  },
  {
   "cell_type": "markdown",
   "id": "426f0502-a0ae-4bb4-b826-b86d2a270702",
   "metadata": {},
   "source": [
    "Преобразуем наш датафрейм, сделав столбец 'date' индексом:"
   ]
  },
  {
   "cell_type": "code",
   "execution_count": 9,
   "id": "53c8d902-c824-484b-a604-48adff85710b",
   "metadata": {},
   "outputs": [],
   "source": [
    "google = google.set_index('date')"
   ]
  },
  {
   "cell_type": "code",
   "execution_count": 10,
   "id": "87a130e6-190e-46ea-af86-78cfd03736a1",
   "metadata": {},
   "outputs": [
    {
     "data": {
      "text/html": [
       "<div>\n",
       "<style scoped>\n",
       "    .dataframe tbody tr th:only-of-type {\n",
       "        vertical-align: middle;\n",
       "    }\n",
       "\n",
       "    .dataframe tbody tr th {\n",
       "        vertical-align: top;\n",
       "    }\n",
       "\n",
       "    .dataframe thead th {\n",
       "        text-align: right;\n",
       "    }\n",
       "</style>\n",
       "<table border=\"1\" class=\"dataframe\">\n",
       "  <thead>\n",
       "    <tr style=\"text-align: right;\">\n",
       "      <th></th>\n",
       "      <th>open</th>\n",
       "      <th>high</th>\n",
       "      <th>low</th>\n",
       "      <th>close</th>\n",
       "    </tr>\n",
       "    <tr>\n",
       "      <th>date</th>\n",
       "      <th></th>\n",
       "      <th></th>\n",
       "      <th></th>\n",
       "      <th></th>\n",
       "    </tr>\n",
       "  </thead>\n",
       "  <tbody>\n",
       "    <tr>\n",
       "      <th>2023-06-01</th>\n",
       "      <td>122.820000</td>\n",
       "      <td>124.419998</td>\n",
       "      <td>122.620003</td>\n",
       "      <td>123.720001</td>\n",
       "    </tr>\n",
       "    <tr>\n",
       "      <th>2023-06-02</th>\n",
       "      <td>123.989998</td>\n",
       "      <td>126.150002</td>\n",
       "      <td>123.760002</td>\n",
       "      <td>124.669998</td>\n",
       "    </tr>\n",
       "    <tr>\n",
       "      <th>2023-06-05</th>\n",
       "      <td>124.010002</td>\n",
       "      <td>127.430000</td>\n",
       "      <td>123.839996</td>\n",
       "      <td>126.010002</td>\n",
       "    </tr>\n",
       "  </tbody>\n",
       "</table>\n",
       "</div>"
      ],
      "text/plain": [
       "                  open        high         low       close\n",
       "date                                                      \n",
       "2023-06-01  122.820000  124.419998  122.620003  123.720001\n",
       "2023-06-02  123.989998  126.150002  123.760002  124.669998\n",
       "2023-06-05  124.010002  127.430000  123.839996  126.010002"
      ]
     },
     "execution_count": 10,
     "metadata": {},
     "output_type": "execute_result"
    }
   ],
   "source": [
    "google.head(3)"
   ]
  },
  {
   "cell_type": "markdown",
   "id": "8880e895-af2a-42f8-9654-3d5435dd4357",
   "metadata": {},
   "source": [
    "Как и в случае с числовым индексом, мы также можем получить отдельную строку датафрейма, используя срез:"
   ]
  },
  {
   "cell_type": "code",
   "execution_count": 11,
   "id": "c9090948-8195-4b2b-8dfc-cc736ff508a8",
   "metadata": {},
   "outputs": [
    {
     "data": {
      "text/html": [
       "<div>\n",
       "<style scoped>\n",
       "    .dataframe tbody tr th:only-of-type {\n",
       "        vertical-align: middle;\n",
       "    }\n",
       "\n",
       "    .dataframe tbody tr th {\n",
       "        vertical-align: top;\n",
       "    }\n",
       "\n",
       "    .dataframe thead th {\n",
       "        text-align: right;\n",
       "    }\n",
       "</style>\n",
       "<table border=\"1\" class=\"dataframe\">\n",
       "  <thead>\n",
       "    <tr style=\"text-align: right;\">\n",
       "      <th></th>\n",
       "      <th>open</th>\n",
       "      <th>high</th>\n",
       "      <th>low</th>\n",
       "      <th>close</th>\n",
       "    </tr>\n",
       "    <tr>\n",
       "      <th>date</th>\n",
       "      <th></th>\n",
       "      <th></th>\n",
       "      <th></th>\n",
       "      <th></th>\n",
       "    </tr>\n",
       "  </thead>\n",
       "  <tbody>\n",
       "    <tr>\n",
       "      <th>2023-06-08</th>\n",
       "      <td>122.230003</td>\n",
       "      <td>123.230003</td>\n",
       "      <td>121.239998</td>\n",
       "      <td>122.139999</td>\n",
       "    </tr>\n",
       "  </tbody>\n",
       "</table>\n",
       "</div>"
      ],
      "text/plain": [
       "                  open        high         low       close\n",
       "date                                                      \n",
       "2023-06-08  122.230003  123.230003  121.239998  122.139999"
      ]
     },
     "execution_count": 11,
     "metadata": {},
     "output_type": "execute_result"
    }
   ],
   "source": [
    "google[5:6]"
   ]
  },
  {
   "cell_type": "markdown",
   "id": "b894f21c-dacf-4656-b151-b98b94d2b734",
   "metadata": {},
   "source": [
    "И еще у нас добавляется возможность обращаться к датафрейму, указывая в срезе имена индексов:"
   ]
  },
  {
   "cell_type": "code",
   "execution_count": 12,
   "id": "d16cd2c5-e9e9-4537-a45b-65719464ee47",
   "metadata": {},
   "outputs": [
    {
     "data": {
      "text/html": [
       "<div>\n",
       "<style scoped>\n",
       "    .dataframe tbody tr th:only-of-type {\n",
       "        vertical-align: middle;\n",
       "    }\n",
       "\n",
       "    .dataframe tbody tr th {\n",
       "        vertical-align: top;\n",
       "    }\n",
       "\n",
       "    .dataframe thead th {\n",
       "        text-align: right;\n",
       "    }\n",
       "</style>\n",
       "<table border=\"1\" class=\"dataframe\">\n",
       "  <thead>\n",
       "    <tr style=\"text-align: right;\">\n",
       "      <th></th>\n",
       "      <th>open</th>\n",
       "      <th>high</th>\n",
       "      <th>low</th>\n",
       "      <th>close</th>\n",
       "    </tr>\n",
       "    <tr>\n",
       "      <th>date</th>\n",
       "      <th></th>\n",
       "      <th></th>\n",
       "      <th></th>\n",
       "      <th></th>\n",
       "    </tr>\n",
       "  </thead>\n",
       "  <tbody>\n",
       "    <tr>\n",
       "      <th>2023-06-08</th>\n",
       "      <td>122.230003</td>\n",
       "      <td>123.230003</td>\n",
       "      <td>121.239998</td>\n",
       "      <td>122.139999</td>\n",
       "    </tr>\n",
       "    <tr>\n",
       "      <th>2023-06-09</th>\n",
       "      <td>122.250000</td>\n",
       "      <td>123.760002</td>\n",
       "      <td>121.910004</td>\n",
       "      <td>122.230003</td>\n",
       "    </tr>\n",
       "  </tbody>\n",
       "</table>\n",
       "</div>"
      ],
      "text/plain": [
       "                  open        high         low       close\n",
       "date                                                      \n",
       "2023-06-08  122.230003  123.230003  121.239998  122.139999\n",
       "2023-06-09  122.250000  123.760002  121.910004  122.230003"
      ]
     },
     "execution_count": 12,
     "metadata": {},
     "output_type": "execute_result"
    }
   ],
   "source": [
    "google['2023-06-08':'2023-06-09']"
   ]
  },
  {
   "cell_type": "markdown",
   "id": "c2100c59-bfee-46fc-a0a2-541f6b11e16c",
   "metadata": {},
   "source": [
    "Только теперь верхняя граница среза включается в выдаваемый результат, и для получения какой-либо одной строки, надо указывать одинаковое наименование нижней и верхней границ среза:"
   ]
  },
  {
   "cell_type": "code",
   "execution_count": 13,
   "id": "dfed7ecc-7c9d-4fe0-97f6-d84aadeb9aff",
   "metadata": {},
   "outputs": [
    {
     "data": {
      "text/html": [
       "<div>\n",
       "<style scoped>\n",
       "    .dataframe tbody tr th:only-of-type {\n",
       "        vertical-align: middle;\n",
       "    }\n",
       "\n",
       "    .dataframe tbody tr th {\n",
       "        vertical-align: top;\n",
       "    }\n",
       "\n",
       "    .dataframe thead th {\n",
       "        text-align: right;\n",
       "    }\n",
       "</style>\n",
       "<table border=\"1\" class=\"dataframe\">\n",
       "  <thead>\n",
       "    <tr style=\"text-align: right;\">\n",
       "      <th></th>\n",
       "      <th>open</th>\n",
       "      <th>high</th>\n",
       "      <th>low</th>\n",
       "      <th>close</th>\n",
       "    </tr>\n",
       "    <tr>\n",
       "      <th>date</th>\n",
       "      <th></th>\n",
       "      <th></th>\n",
       "      <th></th>\n",
       "      <th></th>\n",
       "    </tr>\n",
       "  </thead>\n",
       "  <tbody>\n",
       "    <tr>\n",
       "      <th>2023-06-08</th>\n",
       "      <td>122.230003</td>\n",
       "      <td>123.230003</td>\n",
       "      <td>121.239998</td>\n",
       "      <td>122.139999</td>\n",
       "    </tr>\n",
       "  </tbody>\n",
       "</table>\n",
       "</div>"
      ],
      "text/plain": [
       "                  open        high         low       close\n",
       "date                                                      \n",
       "2023-06-08  122.230003  123.230003  121.239998  122.139999"
      ]
     },
     "execution_count": 13,
     "metadata": {},
     "output_type": "execute_result"
    }
   ],
   "source": [
    "google['2023-06-08':'2023-06-08']"
   ]
  },
  {
   "cell_type": "markdown",
   "id": "4c35124f-5248-4d3f-93ac-7614340a798a",
   "metadata": {},
   "source": [
    "\n",
    "Для получения среза строк можно использовать или числовую индексацию, или индексацию по меткам индексов.\r\n",
    "\r\n",
    "Выведем на экран все записи датафреймо д6 07.06.2023 включительно:"
   ]
  },
  {
   "cell_type": "code",
   "execution_count": 14,
   "id": "cf73a575-2100-4203-95ad-5008254754d7",
   "metadata": {},
   "outputs": [
    {
     "data": {
      "text/html": [
       "<div>\n",
       "<style scoped>\n",
       "    .dataframe tbody tr th:only-of-type {\n",
       "        vertical-align: middle;\n",
       "    }\n",
       "\n",
       "    .dataframe tbody tr th {\n",
       "        vertical-align: top;\n",
       "    }\n",
       "\n",
       "    .dataframe thead th {\n",
       "        text-align: right;\n",
       "    }\n",
       "</style>\n",
       "<table border=\"1\" class=\"dataframe\">\n",
       "  <thead>\n",
       "    <tr style=\"text-align: right;\">\n",
       "      <th></th>\n",
       "      <th>open</th>\n",
       "      <th>high</th>\n",
       "      <th>low</th>\n",
       "      <th>close</th>\n",
       "    </tr>\n",
       "    <tr>\n",
       "      <th>date</th>\n",
       "      <th></th>\n",
       "      <th></th>\n",
       "      <th></th>\n",
       "      <th></th>\n",
       "    </tr>\n",
       "  </thead>\n",
       "  <tbody>\n",
       "    <tr>\n",
       "      <th>2023-06-01</th>\n",
       "      <td>122.820000</td>\n",
       "      <td>124.419998</td>\n",
       "      <td>122.620003</td>\n",
       "      <td>123.720001</td>\n",
       "    </tr>\n",
       "    <tr>\n",
       "      <th>2023-06-02</th>\n",
       "      <td>123.989998</td>\n",
       "      <td>126.150002</td>\n",
       "      <td>123.760002</td>\n",
       "      <td>124.669998</td>\n",
       "    </tr>\n",
       "    <tr>\n",
       "      <th>2023-06-05</th>\n",
       "      <td>124.010002</td>\n",
       "      <td>127.430000</td>\n",
       "      <td>123.839996</td>\n",
       "      <td>126.010002</td>\n",
       "    </tr>\n",
       "    <tr>\n",
       "      <th>2023-06-06</th>\n",
       "      <td>126.010002</td>\n",
       "      <td>128.289993</td>\n",
       "      <td>125.360001</td>\n",
       "      <td>127.309998</td>\n",
       "    </tr>\n",
       "    <tr>\n",
       "      <th>2023-06-07</th>\n",
       "      <td>126.970001</td>\n",
       "      <td>129.039993</td>\n",
       "      <td>122.120003</td>\n",
       "      <td>122.500000</td>\n",
       "    </tr>\n",
       "  </tbody>\n",
       "</table>\n",
       "</div>"
      ],
      "text/plain": [
       "                  open        high         low       close\n",
       "date                                                      \n",
       "2023-06-01  122.820000  124.419998  122.620003  123.720001\n",
       "2023-06-02  123.989998  126.150002  123.760002  124.669998\n",
       "2023-06-05  124.010002  127.430000  123.839996  126.010002\n",
       "2023-06-06  126.010002  128.289993  125.360001  127.309998\n",
       "2023-06-07  126.970001  129.039993  122.120003  122.500000"
      ]
     },
     "execution_count": 14,
     "metadata": {},
     "output_type": "execute_result"
    }
   ],
   "source": [
    "google[:'2023-06-07']"
   ]
  },
  {
   "cell_type": "markdown",
   "id": "bfa7e78f-c248-460a-9c4f-b407fa6fafba",
   "metadata": {},
   "source": [
    "Или, например, с 01.06.2023 по 12.06.2023 выведем на экран каждую вторую запись датафрейма:"
   ]
  },
  {
   "cell_type": "code",
   "execution_count": 15,
   "id": "b3cb2d52-ee8e-4fc2-a9db-5f8b58611e50",
   "metadata": {},
   "outputs": [
    {
     "data": {
      "text/html": [
       "<div>\n",
       "<style scoped>\n",
       "    .dataframe tbody tr th:only-of-type {\n",
       "        vertical-align: middle;\n",
       "    }\n",
       "\n",
       "    .dataframe tbody tr th {\n",
       "        vertical-align: top;\n",
       "    }\n",
       "\n",
       "    .dataframe thead th {\n",
       "        text-align: right;\n",
       "    }\n",
       "</style>\n",
       "<table border=\"1\" class=\"dataframe\">\n",
       "  <thead>\n",
       "    <tr style=\"text-align: right;\">\n",
       "      <th></th>\n",
       "      <th>open</th>\n",
       "      <th>high</th>\n",
       "      <th>low</th>\n",
       "      <th>close</th>\n",
       "    </tr>\n",
       "    <tr>\n",
       "      <th>date</th>\n",
       "      <th></th>\n",
       "      <th></th>\n",
       "      <th></th>\n",
       "      <th></th>\n",
       "    </tr>\n",
       "  </thead>\n",
       "  <tbody>\n",
       "    <tr>\n",
       "      <th>2023-06-01</th>\n",
       "      <td>122.820000</td>\n",
       "      <td>124.419998</td>\n",
       "      <td>122.620003</td>\n",
       "      <td>123.720001</td>\n",
       "    </tr>\n",
       "    <tr>\n",
       "      <th>2023-06-05</th>\n",
       "      <td>124.010002</td>\n",
       "      <td>127.430000</td>\n",
       "      <td>123.839996</td>\n",
       "      <td>126.010002</td>\n",
       "    </tr>\n",
       "    <tr>\n",
       "      <th>2023-06-07</th>\n",
       "      <td>126.970001</td>\n",
       "      <td>129.039993</td>\n",
       "      <td>122.120003</td>\n",
       "      <td>122.500000</td>\n",
       "    </tr>\n",
       "    <tr>\n",
       "      <th>2023-06-09</th>\n",
       "      <td>122.250000</td>\n",
       "      <td>123.760002</td>\n",
       "      <td>121.910004</td>\n",
       "      <td>122.230003</td>\n",
       "    </tr>\n",
       "  </tbody>\n",
       "</table>\n",
       "</div>"
      ],
      "text/plain": [
       "                  open        high         low       close\n",
       "date                                                      \n",
       "2023-06-01  122.820000  124.419998  122.620003  123.720001\n",
       "2023-06-05  124.010002  127.430000  123.839996  126.010002\n",
       "2023-06-07  126.970001  129.039993  122.120003  122.500000\n",
       "2023-06-09  122.250000  123.760002  121.910004  122.230003"
      ]
     },
     "execution_count": 15,
     "metadata": {},
     "output_type": "execute_result"
    }
   ],
   "source": [
    "google['2023-06-01':'2023-06-12':2]"
   ]
  },
  {
   "cell_type": "markdown",
   "id": "a1b9b342-205b-4842-bea5-d23caefb99e9",
   "metadata": {},
   "source": [
    "## Доступ к столбцам "
   ]
  },
  {
   "cell_type": "markdown",
   "id": "73f4d38e-803b-4b8f-8908-6d50f861b4f1",
   "metadata": {},
   "source": [
    "\n",
    "Вернёмся к датафрейму, в котором числовая индексация:"
   ]
  },
  {
   "cell_type": "code",
   "execution_count": 16,
   "id": "e97493c2-7e80-4923-bc2d-51fbb31a4577",
   "metadata": {},
   "outputs": [
    {
     "data": {
      "text/html": [
       "<div>\n",
       "<style scoped>\n",
       "    .dataframe tbody tr th:only-of-type {\n",
       "        vertical-align: middle;\n",
       "    }\n",
       "\n",
       "    .dataframe tbody tr th {\n",
       "        vertical-align: top;\n",
       "    }\n",
       "\n",
       "    .dataframe thead th {\n",
       "        text-align: right;\n",
       "    }\n",
       "</style>\n",
       "<table border=\"1\" class=\"dataframe\">\n",
       "  <thead>\n",
       "    <tr style=\"text-align: right;\">\n",
       "      <th></th>\n",
       "      <th>open</th>\n",
       "      <th>high</th>\n",
       "      <th>low</th>\n",
       "      <th>close</th>\n",
       "    </tr>\n",
       "    <tr>\n",
       "      <th>date</th>\n",
       "      <th></th>\n",
       "      <th></th>\n",
       "      <th></th>\n",
       "      <th></th>\n",
       "    </tr>\n",
       "  </thead>\n",
       "  <tbody>\n",
       "    <tr>\n",
       "      <th>2023-06-01</th>\n",
       "      <td>122.820000</td>\n",
       "      <td>124.419998</td>\n",
       "      <td>122.620003</td>\n",
       "      <td>123.720001</td>\n",
       "    </tr>\n",
       "    <tr>\n",
       "      <th>2023-06-02</th>\n",
       "      <td>123.989998</td>\n",
       "      <td>126.150002</td>\n",
       "      <td>123.760002</td>\n",
       "      <td>124.669998</td>\n",
       "    </tr>\n",
       "    <tr>\n",
       "      <th>2023-06-05</th>\n",
       "      <td>124.010002</td>\n",
       "      <td>127.430000</td>\n",
       "      <td>123.839996</td>\n",
       "      <td>126.010002</td>\n",
       "    </tr>\n",
       "    <tr>\n",
       "      <th>2023-06-06</th>\n",
       "      <td>126.010002</td>\n",
       "      <td>128.289993</td>\n",
       "      <td>125.360001</td>\n",
       "      <td>127.309998</td>\n",
       "    </tr>\n",
       "    <tr>\n",
       "      <th>2023-06-07</th>\n",
       "      <td>126.970001</td>\n",
       "      <td>129.039993</td>\n",
       "      <td>122.120003</td>\n",
       "      <td>122.500000</td>\n",
       "    </tr>\n",
       "  </tbody>\n",
       "</table>\n",
       "</div>"
      ],
      "text/plain": [
       "                  open        high         low       close\n",
       "date                                                      \n",
       "2023-06-01  122.820000  124.419998  122.620003  123.720001\n",
       "2023-06-02  123.989998  126.150002  123.760002  124.669998\n",
       "2023-06-05  124.010002  127.430000  123.839996  126.010002\n",
       "2023-06-06  126.010002  128.289993  125.360001  127.309998\n",
       "2023-06-07  126.970001  129.039993  122.120003  122.500000"
      ]
     },
     "execution_count": 16,
     "metadata": {},
     "output_type": "execute_result"
    }
   ],
   "source": [
    "google.head()"
   ]
  },
  {
   "cell_type": "markdown",
   "id": "2fff832b-8a73-4b38-bf7b-30c0929542d8",
   "metadata": {},
   "source": [
    "Выведем столбец с ценами открытия:"
   ]
  },
  {
   "cell_type": "code",
   "execution_count": 17,
   "id": "31f76df4-d402-4358-a18c-c9648e7ddd0d",
   "metadata": {},
   "outputs": [
    {
     "data": {
      "text/plain": [
       "date\n",
       "2023-06-01    122.820000\n",
       "2023-06-02    123.989998\n",
       "2023-06-05    124.010002\n",
       "2023-06-06    126.010002\n",
       "2023-06-07    126.970001\n",
       "2023-06-08    122.230003\n",
       "2023-06-09    122.250000\n",
       "2023-06-12    122.790001\n",
       "2023-06-13    124.980003\n",
       "2023-06-14    123.099998\n",
       "2023-06-15    123.139999\n",
       "2023-06-16    125.930000\n",
       "Name: open, dtype: float64"
      ]
     },
     "execution_count": 17,
     "metadata": {},
     "output_type": "execute_result"
    }
   ],
   "source": [
    "google['open']"
   ]
  },
  {
   "cell_type": "code",
   "execution_count": 18,
   "id": "a3a13ba4-ae60-4069-8121-13310788d054",
   "metadata": {},
   "outputs": [
    {
     "name": "stdout",
     "output_type": "stream",
     "text": [
      "<class 'pandas.core.series.Series'>\n"
     ]
    }
   ],
   "source": [
    "print(type(google['open']))"
   ]
  },
  {
   "cell_type": "markdown",
   "id": "62442f6f-efe5-4515-a120-b3779efe2e4e",
   "metadata": {},
   "source": [
    "На выходе получили данные колонки 'open' в виде объекта Series.\n",
    "\n",
    "Если нам нужно получить столбец в виде объекта DataFrame, то наименование получаемого столбца указываем в дополнительных квадратных скобках:"
   ]
  },
  {
   "cell_type": "code",
   "execution_count": 19,
   "id": "9e7734af-b9a9-4427-b0dd-be4e660eb5ec",
   "metadata": {},
   "outputs": [
    {
     "data": {
      "text/html": [
       "<div>\n",
       "<style scoped>\n",
       "    .dataframe tbody tr th:only-of-type {\n",
       "        vertical-align: middle;\n",
       "    }\n",
       "\n",
       "    .dataframe tbody tr th {\n",
       "        vertical-align: top;\n",
       "    }\n",
       "\n",
       "    .dataframe thead th {\n",
       "        text-align: right;\n",
       "    }\n",
       "</style>\n",
       "<table border=\"1\" class=\"dataframe\">\n",
       "  <thead>\n",
       "    <tr style=\"text-align: right;\">\n",
       "      <th></th>\n",
       "      <th>open</th>\n",
       "    </tr>\n",
       "    <tr>\n",
       "      <th>date</th>\n",
       "      <th></th>\n",
       "    </tr>\n",
       "  </thead>\n",
       "  <tbody>\n",
       "    <tr>\n",
       "      <th>2023-06-01</th>\n",
       "      <td>122.820000</td>\n",
       "    </tr>\n",
       "    <tr>\n",
       "      <th>2023-06-02</th>\n",
       "      <td>123.989998</td>\n",
       "    </tr>\n",
       "    <tr>\n",
       "      <th>2023-06-05</th>\n",
       "      <td>124.010002</td>\n",
       "    </tr>\n",
       "    <tr>\n",
       "      <th>2023-06-06</th>\n",
       "      <td>126.010002</td>\n",
       "    </tr>\n",
       "    <tr>\n",
       "      <th>2023-06-07</th>\n",
       "      <td>126.970001</td>\n",
       "    </tr>\n",
       "    <tr>\n",
       "      <th>2023-06-08</th>\n",
       "      <td>122.230003</td>\n",
       "    </tr>\n",
       "    <tr>\n",
       "      <th>2023-06-09</th>\n",
       "      <td>122.250000</td>\n",
       "    </tr>\n",
       "    <tr>\n",
       "      <th>2023-06-12</th>\n",
       "      <td>122.790001</td>\n",
       "    </tr>\n",
       "    <tr>\n",
       "      <th>2023-06-13</th>\n",
       "      <td>124.980003</td>\n",
       "    </tr>\n",
       "    <tr>\n",
       "      <th>2023-06-14</th>\n",
       "      <td>123.099998</td>\n",
       "    </tr>\n",
       "    <tr>\n",
       "      <th>2023-06-15</th>\n",
       "      <td>123.139999</td>\n",
       "    </tr>\n",
       "    <tr>\n",
       "      <th>2023-06-16</th>\n",
       "      <td>125.930000</td>\n",
       "    </tr>\n",
       "  </tbody>\n",
       "</table>\n",
       "</div>"
      ],
      "text/plain": [
       "                  open\n",
       "date                  \n",
       "2023-06-01  122.820000\n",
       "2023-06-02  123.989998\n",
       "2023-06-05  124.010002\n",
       "2023-06-06  126.010002\n",
       "2023-06-07  126.970001\n",
       "2023-06-08  122.230003\n",
       "2023-06-09  122.250000\n",
       "2023-06-12  122.790001\n",
       "2023-06-13  124.980003\n",
       "2023-06-14  123.099998\n",
       "2023-06-15  123.139999\n",
       "2023-06-16  125.930000"
      ]
     },
     "execution_count": 19,
     "metadata": {},
     "output_type": "execute_result"
    }
   ],
   "source": [
    "google[['open']]"
   ]
  },
  {
   "cell_type": "code",
   "execution_count": 20,
   "id": "dd29ab9b-baff-45b4-95d7-cdf95e05209f",
   "metadata": {},
   "outputs": [
    {
     "name": "stdout",
     "output_type": "stream",
     "text": [
      "<class 'pandas.core.frame.DataFrame'>\n"
     ]
    }
   ],
   "source": [
    "print(type(google[['open']]))"
   ]
  },
  {
   "cell_type": "markdown",
   "id": "99e20a6b-fd07-42d9-b9f5-f17fda4eb19a",
   "metadata": {},
   "source": [
    "Для того, чтобы получить данные из нескольких колонок, нужно в конструкцию DataFrame[ ] ( в нашем случае google[ ]) передать список нужных нам столбцов (например, ['low', 'high'])."
   ]
  },
  {
   "cell_type": "code",
   "execution_count": 21,
   "id": "fc49e059-2736-47c5-8bc5-dfac533d0936",
   "metadata": {},
   "outputs": [
    {
     "data": {
      "text/html": [
       "<div>\n",
       "<style scoped>\n",
       "    .dataframe tbody tr th:only-of-type {\n",
       "        vertical-align: middle;\n",
       "    }\n",
       "\n",
       "    .dataframe tbody tr th {\n",
       "        vertical-align: top;\n",
       "    }\n",
       "\n",
       "    .dataframe thead th {\n",
       "        text-align: right;\n",
       "    }\n",
       "</style>\n",
       "<table border=\"1\" class=\"dataframe\">\n",
       "  <thead>\n",
       "    <tr style=\"text-align: right;\">\n",
       "      <th></th>\n",
       "      <th>low</th>\n",
       "      <th>high</th>\n",
       "    </tr>\n",
       "    <tr>\n",
       "      <th>date</th>\n",
       "      <th></th>\n",
       "      <th></th>\n",
       "    </tr>\n",
       "  </thead>\n",
       "  <tbody>\n",
       "    <tr>\n",
       "      <th>2023-06-01</th>\n",
       "      <td>122.620003</td>\n",
       "      <td>124.419998</td>\n",
       "    </tr>\n",
       "    <tr>\n",
       "      <th>2023-06-02</th>\n",
       "      <td>123.760002</td>\n",
       "      <td>126.150002</td>\n",
       "    </tr>\n",
       "    <tr>\n",
       "      <th>2023-06-05</th>\n",
       "      <td>123.839996</td>\n",
       "      <td>127.430000</td>\n",
       "    </tr>\n",
       "    <tr>\n",
       "      <th>2023-06-06</th>\n",
       "      <td>125.360001</td>\n",
       "      <td>128.289993</td>\n",
       "    </tr>\n",
       "    <tr>\n",
       "      <th>2023-06-07</th>\n",
       "      <td>122.120003</td>\n",
       "      <td>129.039993</td>\n",
       "    </tr>\n",
       "    <tr>\n",
       "      <th>2023-06-08</th>\n",
       "      <td>121.239998</td>\n",
       "      <td>123.230003</td>\n",
       "    </tr>\n",
       "    <tr>\n",
       "      <th>2023-06-09</th>\n",
       "      <td>121.910004</td>\n",
       "      <td>123.760002</td>\n",
       "    </tr>\n",
       "    <tr>\n",
       "      <th>2023-06-12</th>\n",
       "      <td>121.660004</td>\n",
       "      <td>124.050003</td>\n",
       "    </tr>\n",
       "    <tr>\n",
       "      <th>2023-06-13</th>\n",
       "      <td>123.180000</td>\n",
       "      <td>125.160004</td>\n",
       "    </tr>\n",
       "    <tr>\n",
       "      <th>2023-06-14</th>\n",
       "      <td>121.449997</td>\n",
       "      <td>124.050003</td>\n",
       "    </tr>\n",
       "    <tr>\n",
       "      <th>2023-06-15</th>\n",
       "      <td>122.400002</td>\n",
       "      <td>125.459999</td>\n",
       "    </tr>\n",
       "    <tr>\n",
       "      <th>2023-06-16</th>\n",
       "      <td>123.279999</td>\n",
       "      <td>126.110001</td>\n",
       "    </tr>\n",
       "  </tbody>\n",
       "</table>\n",
       "</div>"
      ],
      "text/plain": [
       "                   low        high\n",
       "date                              \n",
       "2023-06-01  122.620003  124.419998\n",
       "2023-06-02  123.760002  126.150002\n",
       "2023-06-05  123.839996  127.430000\n",
       "2023-06-06  125.360001  128.289993\n",
       "2023-06-07  122.120003  129.039993\n",
       "2023-06-08  121.239998  123.230003\n",
       "2023-06-09  121.910004  123.760002\n",
       "2023-06-12  121.660004  124.050003\n",
       "2023-06-13  123.180000  125.160004\n",
       "2023-06-14  121.449997  124.050003\n",
       "2023-06-15  122.400002  125.459999\n",
       "2023-06-16  123.279999  126.110001"
      ]
     },
     "execution_count": 21,
     "metadata": {},
     "output_type": "execute_result"
    }
   ],
   "source": [
    "google[['low', 'high']]"
   ]
  },
  {
   "cell_type": "markdown",
   "id": "256d4cf6-2831-4806-9835-ffc0951a9ecf",
   "metadata": {},
   "source": [
    "Если имена столбцов мы не заключим в дополнительные квадратные скобки, то получим ошибку."
   ]
  },
  {
   "cell_type": "markdown",
   "id": "3a1f1791-47c6-45f6-831c-5cd66e59c8af",
   "metadata": {},
   "source": [
    "## Доступ к данным по условию"
   ]
  },
  {
   "cell_type": "markdown",
   "id": "aadb5ba3-ecdb-4ce6-aed4-4f2e43862a23",
   "metadata": {},
   "source": [
    "Также получать доступ к данным можно с использованием логических выражений. В этом случае применяются операторы сравнения и побитовые операторы.\n",
    "\n",
    "Операторы сравнения:\n",
    "- `==` - равно;\n",
    "- `!=` - не равно;\n",
    "- `>` - больше;\n",
    "- `<` - меньше;\n",
    "- `>=` - больше или равно;\n",
    "- `<=`  - меньше или равно.\n",
    "\n",
    "Побитовые операторы:\n",
    "- `~` - отрицание;\n",
    "- `&` - \"И\";\n",
    "- `|` - \"ИЛИ\";\n",
    "- `^` - исключающее \"ИЛИ\"."
   ]
  },
  {
   "cell_type": "code",
   "execution_count": 22,
   "id": "4fe5cfe3-f1e8-4530-8598-4f7b6af46ce8",
   "metadata": {},
   "outputs": [
    {
     "data": {
      "text/html": [
       "<div>\n",
       "<style scoped>\n",
       "    .dataframe tbody tr th:only-of-type {\n",
       "        vertical-align: middle;\n",
       "    }\n",
       "\n",
       "    .dataframe tbody tr th {\n",
       "        vertical-align: top;\n",
       "    }\n",
       "\n",
       "    .dataframe thead th {\n",
       "        text-align: right;\n",
       "    }\n",
       "</style>\n",
       "<table border=\"1\" class=\"dataframe\">\n",
       "  <thead>\n",
       "    <tr style=\"text-align: right;\">\n",
       "      <th></th>\n",
       "      <th>open</th>\n",
       "      <th>high</th>\n",
       "      <th>low</th>\n",
       "      <th>close</th>\n",
       "    </tr>\n",
       "    <tr>\n",
       "      <th>date</th>\n",
       "      <th></th>\n",
       "      <th></th>\n",
       "      <th></th>\n",
       "      <th></th>\n",
       "    </tr>\n",
       "  </thead>\n",
       "  <tbody>\n",
       "    <tr>\n",
       "      <th>2023-06-01</th>\n",
       "      <td>122.820000</td>\n",
       "      <td>124.419998</td>\n",
       "      <td>122.620003</td>\n",
       "      <td>123.720001</td>\n",
       "    </tr>\n",
       "    <tr>\n",
       "      <th>2023-06-02</th>\n",
       "      <td>123.989998</td>\n",
       "      <td>126.150002</td>\n",
       "      <td>123.760002</td>\n",
       "      <td>124.669998</td>\n",
       "    </tr>\n",
       "    <tr>\n",
       "      <th>2023-06-05</th>\n",
       "      <td>124.010002</td>\n",
       "      <td>127.430000</td>\n",
       "      <td>123.839996</td>\n",
       "      <td>126.010002</td>\n",
       "    </tr>\n",
       "    <tr>\n",
       "      <th>2023-06-06</th>\n",
       "      <td>126.010002</td>\n",
       "      <td>128.289993</td>\n",
       "      <td>125.360001</td>\n",
       "      <td>127.309998</td>\n",
       "    </tr>\n",
       "    <tr>\n",
       "      <th>2023-06-07</th>\n",
       "      <td>126.970001</td>\n",
       "      <td>129.039993</td>\n",
       "      <td>122.120003</td>\n",
       "      <td>122.500000</td>\n",
       "    </tr>\n",
       "    <tr>\n",
       "      <th>2023-06-08</th>\n",
       "      <td>122.230003</td>\n",
       "      <td>123.230003</td>\n",
       "      <td>121.239998</td>\n",
       "      <td>122.139999</td>\n",
       "    </tr>\n",
       "    <tr>\n",
       "      <th>2023-06-09</th>\n",
       "      <td>122.250000</td>\n",
       "      <td>123.760002</td>\n",
       "      <td>121.910004</td>\n",
       "      <td>122.230003</td>\n",
       "    </tr>\n",
       "    <tr>\n",
       "      <th>2023-06-12</th>\n",
       "      <td>122.790001</td>\n",
       "      <td>124.050003</td>\n",
       "      <td>121.660004</td>\n",
       "      <td>123.639999</td>\n",
       "    </tr>\n",
       "    <tr>\n",
       "      <th>2023-06-13</th>\n",
       "      <td>124.980003</td>\n",
       "      <td>125.160004</td>\n",
       "      <td>123.180000</td>\n",
       "      <td>123.830002</td>\n",
       "    </tr>\n",
       "    <tr>\n",
       "      <th>2023-06-14</th>\n",
       "      <td>123.099998</td>\n",
       "      <td>124.050003</td>\n",
       "      <td>121.449997</td>\n",
       "      <td>123.669998</td>\n",
       "    </tr>\n",
       "    <tr>\n",
       "      <th>2023-06-15</th>\n",
       "      <td>123.139999</td>\n",
       "      <td>125.459999</td>\n",
       "      <td>122.400002</td>\n",
       "      <td>125.089996</td>\n",
       "    </tr>\n",
       "    <tr>\n",
       "      <th>2023-06-16</th>\n",
       "      <td>125.930000</td>\n",
       "      <td>126.110001</td>\n",
       "      <td>123.279999</td>\n",
       "      <td>123.529999</td>\n",
       "    </tr>\n",
       "  </tbody>\n",
       "</table>\n",
       "</div>"
      ],
      "text/plain": [
       "                  open        high         low       close\n",
       "date                                                      \n",
       "2023-06-01  122.820000  124.419998  122.620003  123.720001\n",
       "2023-06-02  123.989998  126.150002  123.760002  124.669998\n",
       "2023-06-05  124.010002  127.430000  123.839996  126.010002\n",
       "2023-06-06  126.010002  128.289993  125.360001  127.309998\n",
       "2023-06-07  126.970001  129.039993  122.120003  122.500000\n",
       "2023-06-08  122.230003  123.230003  121.239998  122.139999\n",
       "2023-06-09  122.250000  123.760002  121.910004  122.230003\n",
       "2023-06-12  122.790001  124.050003  121.660004  123.639999\n",
       "2023-06-13  124.980003  125.160004  123.180000  123.830002\n",
       "2023-06-14  123.099998  124.050003  121.449997  123.669998\n",
       "2023-06-15  123.139999  125.459999  122.400002  125.089996\n",
       "2023-06-16  125.930000  126.110001  123.279999  123.529999"
      ]
     },
     "metadata": {},
     "output_type": "display_data"
    }
   ],
   "source": [
    "display(google)"
   ]
  },
  {
   "cell_type": "markdown",
   "id": "1230c06a-84d4-4599-8476-133daf20ca61",
   "metadata": {},
   "source": [
    "Например, зададим условие, при котором цена открытия больше 125:"
   ]
  },
  {
   "cell_type": "code",
   "execution_count": 23,
   "id": "8b1ed4d1-8aac-44b6-8fa4-6a8b748c72d3",
   "metadata": {},
   "outputs": [
    {
     "data": {
      "text/plain": [
       "date\n",
       "2023-06-01    False\n",
       "2023-06-02    False\n",
       "2023-06-05    False\n",
       "2023-06-06     True\n",
       "2023-06-07     True\n",
       "2023-06-08    False\n",
       "2023-06-09    False\n",
       "2023-06-12    False\n",
       "2023-06-13    False\n",
       "2023-06-14    False\n",
       "2023-06-15    False\n",
       "2023-06-16     True\n",
       "Name: open, dtype: bool"
      ]
     },
     "execution_count": 23,
     "metadata": {},
     "output_type": "execute_result"
    }
   ],
   "source": [
    "google['open'] > 125"
   ]
  },
  {
   "cell_type": "markdown",
   "id": "b3d89c80-14a7-4e8b-b922-6065bc1f9638",
   "metadata": {},
   "source": [
    "Получаем логический ряд, в котором значения соответствуют условию: цена открытия 'open' > 125. Если передадим этот ряд в конструкцию DataFrame[], то получим все строки датафрейма, в которых цена открытия 'open' > 125:"
   ]
  },
  {
   "cell_type": "code",
   "execution_count": 24,
   "id": "b760b00c-9420-49aa-99ab-c2acf7dbb3ba",
   "metadata": {},
   "outputs": [
    {
     "data": {
      "text/html": [
       "<div>\n",
       "<style scoped>\n",
       "    .dataframe tbody tr th:only-of-type {\n",
       "        vertical-align: middle;\n",
       "    }\n",
       "\n",
       "    .dataframe tbody tr th {\n",
       "        vertical-align: top;\n",
       "    }\n",
       "\n",
       "    .dataframe thead th {\n",
       "        text-align: right;\n",
       "    }\n",
       "</style>\n",
       "<table border=\"1\" class=\"dataframe\">\n",
       "  <thead>\n",
       "    <tr style=\"text-align: right;\">\n",
       "      <th></th>\n",
       "      <th>open</th>\n",
       "      <th>high</th>\n",
       "      <th>low</th>\n",
       "      <th>close</th>\n",
       "    </tr>\n",
       "    <tr>\n",
       "      <th>date</th>\n",
       "      <th></th>\n",
       "      <th></th>\n",
       "      <th></th>\n",
       "      <th></th>\n",
       "    </tr>\n",
       "  </thead>\n",
       "  <tbody>\n",
       "    <tr>\n",
       "      <th>2023-06-06</th>\n",
       "      <td>126.010002</td>\n",
       "      <td>128.289993</td>\n",
       "      <td>125.360001</td>\n",
       "      <td>127.309998</td>\n",
       "    </tr>\n",
       "    <tr>\n",
       "      <th>2023-06-07</th>\n",
       "      <td>126.970001</td>\n",
       "      <td>129.039993</td>\n",
       "      <td>122.120003</td>\n",
       "      <td>122.500000</td>\n",
       "    </tr>\n",
       "    <tr>\n",
       "      <th>2023-06-16</th>\n",
       "      <td>125.930000</td>\n",
       "      <td>126.110001</td>\n",
       "      <td>123.279999</td>\n",
       "      <td>123.529999</td>\n",
       "    </tr>\n",
       "  </tbody>\n",
       "</table>\n",
       "</div>"
      ],
      "text/plain": [
       "                  open        high         low       close\n",
       "date                                                      \n",
       "2023-06-06  126.010002  128.289993  125.360001  127.309998\n",
       "2023-06-07  126.970001  129.039993  122.120003  122.500000\n",
       "2023-06-16  125.930000  126.110001  123.279999  123.529999"
      ]
     },
     "execution_count": 24,
     "metadata": {},
     "output_type": "execute_result"
    }
   ],
   "source": [
    "google[google['open'] > 125]"
   ]
  },
  {
   "cell_type": "markdown",
   "id": "4b1cf051-a88f-4a1d-a251-86fc37942eb6",
   "metadata": {},
   "source": [
    "При объединении условий, каждое из условий заключается в круглые скобки ().\r\n",
    "В выведем все строки, в которых цена открытия 'open' больше 125 или цена закрытия 'close' больше 125:"
   ]
  },
  {
   "cell_type": "code",
   "execution_count": 25,
   "id": "79bf76d0-3508-406b-b181-c8b05da09a3c",
   "metadata": {},
   "outputs": [
    {
     "data": {
      "text/html": [
       "<div>\n",
       "<style scoped>\n",
       "    .dataframe tbody tr th:only-of-type {\n",
       "        vertical-align: middle;\n",
       "    }\n",
       "\n",
       "    .dataframe tbody tr th {\n",
       "        vertical-align: top;\n",
       "    }\n",
       "\n",
       "    .dataframe thead th {\n",
       "        text-align: right;\n",
       "    }\n",
       "</style>\n",
       "<table border=\"1\" class=\"dataframe\">\n",
       "  <thead>\n",
       "    <tr style=\"text-align: right;\">\n",
       "      <th></th>\n",
       "      <th>open</th>\n",
       "      <th>high</th>\n",
       "      <th>low</th>\n",
       "      <th>close</th>\n",
       "    </tr>\n",
       "    <tr>\n",
       "      <th>date</th>\n",
       "      <th></th>\n",
       "      <th></th>\n",
       "      <th></th>\n",
       "      <th></th>\n",
       "    </tr>\n",
       "  </thead>\n",
       "  <tbody>\n",
       "    <tr>\n",
       "      <th>2023-06-05</th>\n",
       "      <td>124.010002</td>\n",
       "      <td>127.430000</td>\n",
       "      <td>123.839996</td>\n",
       "      <td>126.010002</td>\n",
       "    </tr>\n",
       "    <tr>\n",
       "      <th>2023-06-06</th>\n",
       "      <td>126.010002</td>\n",
       "      <td>128.289993</td>\n",
       "      <td>125.360001</td>\n",
       "      <td>127.309998</td>\n",
       "    </tr>\n",
       "    <tr>\n",
       "      <th>2023-06-07</th>\n",
       "      <td>126.970001</td>\n",
       "      <td>129.039993</td>\n",
       "      <td>122.120003</td>\n",
       "      <td>122.500000</td>\n",
       "    </tr>\n",
       "    <tr>\n",
       "      <th>2023-06-15</th>\n",
       "      <td>123.139999</td>\n",
       "      <td>125.459999</td>\n",
       "      <td>122.400002</td>\n",
       "      <td>125.089996</td>\n",
       "    </tr>\n",
       "    <tr>\n",
       "      <th>2023-06-16</th>\n",
       "      <td>125.930000</td>\n",
       "      <td>126.110001</td>\n",
       "      <td>123.279999</td>\n",
       "      <td>123.529999</td>\n",
       "    </tr>\n",
       "  </tbody>\n",
       "</table>\n",
       "</div>"
      ],
      "text/plain": [
       "                  open        high         low       close\n",
       "date                                                      \n",
       "2023-06-05  124.010002  127.430000  123.839996  126.010002\n",
       "2023-06-06  126.010002  128.289993  125.360001  127.309998\n",
       "2023-06-07  126.970001  129.039993  122.120003  122.500000\n",
       "2023-06-15  123.139999  125.459999  122.400002  125.089996\n",
       "2023-06-16  125.930000  126.110001  123.279999  123.529999"
      ]
     },
     "execution_count": 25,
     "metadata": {},
     "output_type": "execute_result"
    }
   ],
   "source": [
    "google[(google['open'] > 125) | (google['close'] > 125)]"
   ]
  },
  {
   "cell_type": "markdown",
   "id": "3d22db71-5347-44b6-8513-17c5062776be",
   "metadata": {},
   "source": [
    "Или, например, получим все строки, в которых максимальная цена 'high' была выше 125 и минимальная цена 'low' - ниже 123:"
   ]
  },
  {
   "cell_type": "code",
   "execution_count": 26,
   "id": "64cacd1d-4063-4121-8cab-1b86c902b9b2",
   "metadata": {},
   "outputs": [
    {
     "data": {
      "text/html": [
       "<div>\n",
       "<style scoped>\n",
       "    .dataframe tbody tr th:only-of-type {\n",
       "        vertical-align: middle;\n",
       "    }\n",
       "\n",
       "    .dataframe tbody tr th {\n",
       "        vertical-align: top;\n",
       "    }\n",
       "\n",
       "    .dataframe thead th {\n",
       "        text-align: right;\n",
       "    }\n",
       "</style>\n",
       "<table border=\"1\" class=\"dataframe\">\n",
       "  <thead>\n",
       "    <tr style=\"text-align: right;\">\n",
       "      <th></th>\n",
       "      <th>open</th>\n",
       "      <th>high</th>\n",
       "      <th>low</th>\n",
       "      <th>close</th>\n",
       "    </tr>\n",
       "    <tr>\n",
       "      <th>date</th>\n",
       "      <th></th>\n",
       "      <th></th>\n",
       "      <th></th>\n",
       "      <th></th>\n",
       "    </tr>\n",
       "  </thead>\n",
       "  <tbody>\n",
       "    <tr>\n",
       "      <th>2023-06-07</th>\n",
       "      <td>126.970001</td>\n",
       "      <td>129.039993</td>\n",
       "      <td>122.120003</td>\n",
       "      <td>122.500000</td>\n",
       "    </tr>\n",
       "    <tr>\n",
       "      <th>2023-06-15</th>\n",
       "      <td>123.139999</td>\n",
       "      <td>125.459999</td>\n",
       "      <td>122.400002</td>\n",
       "      <td>125.089996</td>\n",
       "    </tr>\n",
       "  </tbody>\n",
       "</table>\n",
       "</div>"
      ],
      "text/plain": [
       "                  open        high         low       close\n",
       "date                                                      \n",
       "2023-06-07  126.970001  129.039993  122.120003  122.500000\n",
       "2023-06-15  123.139999  125.459999  122.400002  125.089996"
      ]
     },
     "execution_count": 26,
     "metadata": {},
     "output_type": "execute_result"
    }
   ],
   "source": [
    "google[(google['high'] > 125) & (google['low'] < 123)]"
   ]
  }
 ],
 "metadata": {
  "kernelspec": {
   "display_name": "Python 3 (ipykernel)",
   "language": "python",
   "name": "python3"
  },
  "language_info": {
   "codemirror_mode": {
    "name": "ipython",
    "version": 3
   },
   "file_extension": ".py",
   "mimetype": "text/x-python",
   "name": "python",
   "nbconvert_exporter": "python",
   "pygments_lexer": "ipython3",
   "version": "3.12.7"
  }
 },
 "nbformat": 4,
 "nbformat_minor": 5
}
