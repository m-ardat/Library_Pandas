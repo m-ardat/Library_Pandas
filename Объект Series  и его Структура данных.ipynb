{
 "cells": [
  {
   "cell_type": "markdown",
   "id": "d55f62c6-1d76-4dc8-bcdc-0397d3088bc1",
   "metadata": {},
   "source": [
    "# Структура данных Series"
   ]
  },
  {
   "cell_type": "markdown",
   "id": "3420296b-2f65-4c88-8b11-c0e77454c76f",
   "metadata": {},
   "source": [
    "Импортируем необходимые библиотеки"
   ]
  },
  {
   "cell_type": "code",
   "execution_count": 1,
   "id": "2c9fb793-0294-4764-b770-f5e0487f7d0f",
   "metadata": {},
   "outputs": [],
   "source": [
    "import pandas as pd\n",
    "import numpy as np"
   ]
  },
  {
   "cell_type": "markdown",
   "id": "dea6cf2b-1855-461f-88b5-84c6b2495982",
   "metadata": {},
   "source": [
    "**Series** – это одномерный объект, содержащий массив данных любого типа (числовые, строковые, булевы, даты и т.д.) и ассоциированный с ним массив меток, называемый индексом. Индекс генерируется автоматически (целочисленные значения: 0, 1, 2, 3 и т.д.), или же индивидуально задается пользователем (например: 'a', 'b', 'c', 'd')."
   ]
  },
  {
   "attachments": {
    "3e4c16e6-ba17-4a4f-bf9f-35d62be0f105.png": {
     "image/png": "[encoded data removed]"
    }
   },
   "cell_type": "markdown",
   "id": "5714eea9-6ab5-49e8-8797-d92087c8dc70",
   "metadata": {},
   "source": [
    "![image.png](attachment:3e4c16e6-ba17-4a4f-bf9f-35d62be0f105.png)"
   ]
  },
  {
   "cell_type": "markdown",
   "id": "f7edca83-8d80-4334-a716-2b7a71153a19",
   "metadata": {},
   "source": [
    "### Создание объекта Series"
   ]
  },
  {
   "cell_type": "markdown",
   "id": "32f0780d-5268-4431-86c2-766d8930a269",
   "metadata": {},
   "source": [
    "Создаются объекты с помощью конструктора класса *Series* , который имеет следующий синтаксис:\n",
    "\n",
    "`pandas.Series(data=None, index=None, dtype=None, name=None, copy=False)`\n",
    "\n",
    "- data - структура, на базе которой будет создан объект Series;\n",
    "- index - список меток, который будет использоваться для доступа к элементам объекта Series.\n",
    "- dtype - тип данных;\n",
    "- name - имя объекта Series;\n",
    "- copy - если параметр принимает значение True, то будет создана копия массива данных и на ее базе сформирован объект Series. По умолчанию False.\n",
    "\n",
    "Создать объект Series можно разными способами:\n",
    "- из списка или кортежа Python;\n",
    "- из словаря;\n",
    "- используя NumPy-массив;\n",
    "- используя константу."
   ]
  },
  {
   "cell_type": "markdown",
   "id": "6e6af0ac-d4ad-4c0a-b17b-82a5d15d5b52",
   "metadata": {},
   "source": [
    "Пустой объект `Series` будет выглядеть так:"
   ]
  },
  {
   "cell_type": "code",
   "execution_count": 2,
   "id": "17c573e9-7b86-4b16-a2c5-6de3c38e03f8",
   "metadata": {},
   "outputs": [
    {
     "name": "stdout",
     "output_type": "stream",
     "text": [
      "Series([], dtype: object)\n"
     ]
    }
   ],
   "source": [
    "srs = pd.Series()\n",
    "print(srs)"
   ]
  },
  {
   "cell_type": "markdown",
   "id": "bf10b83b-e312-4b72-9e92-4fef6e42bb1b",
   "metadata": {},
   "source": [
    "#### Cоздание объекта Series из списка"
   ]
  },
  {
   "cell_type": "code",
   "execution_count": 3,
   "id": "e7153763-c502-4af8-8983-e97acf593273",
   "metadata": {},
   "outputs": [
    {
     "name": "stdout",
     "output_type": "stream",
     "text": [
      "0    50\n",
      "1    60\n",
      "2    70\n",
      "dtype: int64\n"
     ]
    }
   ],
   "source": [
    "lst = [50, 60, 70]\n",
    "srs = pd.Series(data=lst)\n",
    "print(srs)"
   ]
  },
  {
   "cell_type": "markdown",
   "id": "5fca2340-21bd-4aba-be5e-af05b4813bcd",
   "metadata": {},
   "source": [
    "#### Создание объекта Series из словаря"
   ]
  },
  {
   "cell_type": "markdown",
   "id": "f37c1a7f-6a5b-4c3a-856d-48be5d9151b1",
   "metadata": {},
   "source": [
    "Допустим у нас имеется словарь с ценами акций трех металлургических компаний:"
   ]
  },
  {
   "cell_type": "code",
   "execution_count": 4,
   "id": "02772385-4b19-411d-81cc-1f9fa95ab733",
   "metadata": {},
   "outputs": [
    {
     "name": "stdout",
     "output_type": "stream",
     "text": [
      "ММК             52.5\n",
      "Северсталь    1386.2\n",
      "НЛМК           214.2\n",
      "dtype: float64\n"
     ]
    }
   ],
   "source": [
    "shares = {'ММК': 52.50, 'Северсталь': 1386.20, 'НЛМК': 214.20}\n",
    "srs = pd.Series(data=shares)\n",
    "print(srs)"
   ]
  },
  {
   "cell_type": "markdown",
   "id": "e4d31187-f369-4aab-8489-e4e0e42f53ce",
   "metadata": {},
   "source": [
    "По итогу выполнения кода сформировался объект *Series*, в котором метками индекса являются ключи словаря, а значениями серии стали значения словаря.\r\n",
    "\r\n",
    "А тепьте попробуем создать серию из того же словаря, но передать свои индексы:"
   ]
  },
  {
   "cell_type": "code",
   "execution_count": 5,
   "id": "9a446bdc-4816-4519-ba69-5f5397fa8f8f",
   "metadata": {},
   "outputs": [
    {
     "name": "stdout",
     "output_type": "stream",
     "text": [
      "A   NaN\n",
      "B   NaN\n",
      "C   NaN\n",
      "dtype: float64\n"
     ]
    }
   ],
   "source": [
    "srs = pd.Series(shares, index=['A', 'B', 'C'])\n",
    "print(srs)"
   ]
  },
  {
   "cell_type": "markdown",
   "id": "2c9403a9-3c47-4ae8-892e-bbfe194cccd2",
   "metadata": {},
   "source": [
    "В результате колонка индексов сформировалась согласно переданным значениям параметру `index`, а вот в столбце с данными мы видим записи `NaN`, означающие отсутствие какого-либо значения.\n",
    "\n",
    "Логика произошедшей операции заключается в следующем: сначала сформировалась колонка с индексами, согласно значениям переданным параметру `index`. Затем значения индексов соотнеслись с ключами словаря, и если произошло совпадение ключа и метки индекса, то к данной метке индекса \"привязывается\" значение из словаря. Если среди ключей словаря не нашлось совпадения с меткой индекса, то данной метке индекса присваивается значение `NaN`.\n",
    "\n",
    "Например, если передадим параметру `index` не все ключи словаря, то результат будет следующим:"
   ]
  },
  {
   "cell_type": "code",
   "execution_count": 6,
   "id": "fd45161c-2ee5-4773-8d49-b1d987135af4",
   "metadata": {},
   "outputs": [
    {
     "name": "stdout",
     "output_type": "stream",
     "text": [
      "ММК             52.5\n",
      "Северсталь    1386.2\n",
      "dtype: float64\n"
     ]
    }
   ],
   "source": [
    "shares = {'ММК': 52.50, 'Северсталь': 1386.20, 'НЛМК': 214.20} \n",
    "srs = pd.Series(shares, index=['ММК', 'Северсталь'])\n",
    "print(srs)"
   ]
  },
  {
   "cell_type": "markdown",
   "id": "477a4a89-2b6d-410f-a7b6-35fd7cc5a1e6",
   "metadata": {},
   "source": [
    "#### Создание объекта Series из NumPy-массива"
   ]
  },
  {
   "cell_type": "code",
   "execution_count": 7,
   "id": "30348504-3193-439e-802b-95e331e6ef41",
   "metadata": {},
   "outputs": [
    {
     "name": "stdout",
     "output_type": "stream",
     "text": [
      "[  52.5 1386.2  214.2]\n",
      "\n",
      "<class 'numpy.ndarray'>\n"
     ]
    }
   ],
   "source": [
    "arr = np.array([52.50, 1386.20, 214.20])\n",
    "print(arr, type(arr), sep='\\n\\n')"
   ]
  },
  {
   "cell_type": "code",
   "execution_count": 8,
   "id": "ef23a1d3-d795-4eb4-a499-9e85efb17116",
   "metadata": {},
   "outputs": [
    {
     "name": "stdout",
     "output_type": "stream",
     "text": [
      "0      52.5\n",
      "1    1386.2\n",
      "2     214.2\n",
      "dtype: float64\n"
     ]
    }
   ],
   "source": [
    "srs = pd.Series(arr)\n",
    "print(srs)"
   ]
  },
  {
   "cell_type": "markdown",
   "id": "2d36b2cb-2c39-423e-b804-f7303cb5d689",
   "metadata": {},
   "source": [
    "#### Создание объекта Series из константы"
   ]
  },
  {
   "cell_type": "code",
   "execution_count": 9,
   "id": "82cd3957-95d5-47f2-b13b-7ba9cc05dc20",
   "metadata": {},
   "outputs": [
    {
     "name": "stdout",
     "output_type": "stream",
     "text": [
      "Газпром    170\n",
      "Газпром    170\n",
      "Газпром    170\n",
      "dtype: int64\n"
     ]
    }
   ],
   "source": [
    "srs = pd.Series(170, index=['Газпром', 'Газпром', 'Газпром'])\n",
    "print(srs)"
   ]
  },
  {
   "cell_type": "markdown",
   "id": "db1934ce-38d0-45fb-b9f1-6557d6f7045f",
   "metadata": {},
   "source": [
    "### Методы, параметры и атрибуты Series"
   ]
  },
  {
   "cell_type": "markdown",
   "id": "40207264-86d1-4b4a-a66c-0fb1840d76fe",
   "metadata": {},
   "source": [
    "#### Метод `info()`"
   ]
  },
  {
   "cell_type": "markdown",
   "id": "6dbcbbfe-3638-41a3-9139-2e2ca1cd6e88",
   "metadata": {},
   "source": [
    "Одним из частоиспользуемых и полезных методов, применительно к объектам *Series* и *DataFrame*, является метод `info()`, который позволяет получить краткую информацию об этих структурах данных, такую как: \n",
    "- тип используемой индексации,\n",
    "- количество и наименования столбцов (для *DataFrame*),\n",
    "- наличие пропусков в данных,\n",
    "- общее количество строк,\n",
    "- типы используемых данных,\n",
    "- объем занимаемой памяти объектом."
   ]
  },
  {
   "cell_type": "code",
   "execution_count": 10,
   "id": "6642112f-0fcb-4b57-bf98-c4d472985635",
   "metadata": {},
   "outputs": [
    {
     "name": "stdout",
     "output_type": "stream",
     "text": [
      "<class 'pandas.core.series.Series'>\n",
      "RangeIndex: 3 entries, 0 to 2\n",
      "Series name: None\n",
      "Non-Null Count  Dtype\n",
      "--------------  -----\n",
      "3 non-null      int64\n",
      "dtypes: int64(1)\n",
      "memory usage: 156.0 bytes\n"
     ]
    }
   ],
   "source": [
    "srs = pd.Series([20, 30, 40])\n",
    "srs.info()"
   ]
  },
  {
   "cell_type": "markdown",
   "id": "aa06920e-22c7-47bc-9851-857af9f14dc7",
   "metadata": {},
   "source": [
    "Здесь мы видим, что наш объект является структурой класса *Series*, содержит три записи, проиндексированные от 0 до 2. Объект не имеет названия (Series name: None). Из трех записей все три заполнены целочисленными значениями, и объем памяти, занимаемый этим объектом, составляет 156 байт."
   ]
  },
  {
   "cell_type": "markdown",
   "id": "9c22a289-66f0-47f7-9fa2-f4747d7195f1",
   "metadata": {},
   "source": [
    "#### Параметр `index` конструктора класса `Series`"
   ]
  },
  {
   "cell_type": "markdown",
   "id": "f6f0df8f-a727-4203-adc5-3f6c2a37db1f",
   "metadata": {},
   "source": [
    "Используя параметр `index`, можем создать свою индексацию объекта `Series`."
   ]
  },
  {
   "cell_type": "code",
   "execution_count": 11,
   "id": "af3b40c3-1bc9-4aab-9e03-ff83fa92f944",
   "metadata": {},
   "outputs": [
    {
     "name": "stdout",
     "output_type": "stream",
     "text": [
      "A    20\n",
      "B    30\n",
      "C    40\n",
      "dtype: int64\n"
     ]
    }
   ],
   "source": [
    "srs = pd.Series([20, 30, 40], index=['A', 'B', 'C'])\n",
    "\n",
    "print(srs)"
   ]
  },
  {
   "cell_type": "code",
   "execution_count": 12,
   "id": "851ea066-0e9e-4cc6-b03b-898c0b9f1505",
   "metadata": {},
   "outputs": [
    {
     "name": "stdout",
     "output_type": "stream",
     "text": [
      "<class 'pandas.core.series.Series'>\n",
      "Index: 3 entries, A to C\n",
      "Series name: None\n",
      "Non-Null Count  Dtype\n",
      "--------------  -----\n",
      "3 non-null      int64\n",
      "dtypes: int64(1)\n",
      "memory usage: 48.0+ bytes\n"
     ]
    }
   ],
   "source": [
    "srs.info()"
   ]
  },
  {
   "cell_type": "markdown",
   "id": "040cfdb4-8298-4609-9b38-fe570a667b93",
   "metadata": {},
   "source": [
    "#### Атрибут `index` объекта `Series`"
   ]
  },
  {
   "cell_type": "markdown",
   "id": "6fc06378-dd44-47d7-ac42-54fbf5cc7f13",
   "metadata": {},
   "source": [
    "Когда объект *Series* уже создан, он в своем арсенале имеет так называемые \"атрибуты\". Атрибуты используются для извлечения данных или любой информации, относящейся к конкретному объекту *Series*.\n",
    "\n",
    "Атрибут `index` возвращает объект `pandas.Index`, содержащий метки индекса объекта `Series`."
   ]
  },
  {
   "cell_type": "code",
   "execution_count": 13,
   "id": "0c1af830-29f8-4019-ba1c-3b88ab885584",
   "metadata": {},
   "outputs": [
    {
     "name": "stdout",
     "output_type": "stream",
     "text": [
      "Index(['A', 'B', 'C'], dtype='object')\n"
     ]
    }
   ],
   "source": [
    "srs = pd.Series([20, 30, 40], index=['A', 'B', 'C'])\n",
    "print(srs.index)"
   ]
  },
  {
   "cell_type": "markdown",
   "id": "8a0fd0e3-82c8-447f-9a08-128015fe0396",
   "metadata": {},
   "source": [
    "Также колонке индекса можно присвоить наименование через другой атрибут, который называется name. Например, назовем колонку с индексами - `'Индекс'`:"
   ]
  },
  {
   "cell_type": "code",
   "execution_count": 14,
   "id": "4438e4dc-e610-482c-afe4-4bfa117510d0",
   "metadata": {},
   "outputs": [
    {
     "name": "stdout",
     "output_type": "stream",
     "text": [
      "Индекс\n",
      "A    20\n",
      "B    30\n",
      "C    40\n",
      "dtype: int64\n"
     ]
    }
   ],
   "source": [
    "srs.index.name = 'Индекс'\n",
    "print(srs)"
   ]
  },
  {
   "cell_type": "markdown",
   "id": "bba250cb-7326-45bc-88d5-f175177ca77b",
   "metadata": {},
   "source": [
    "#### Атрибут `values` объекта `Series`"
   ]
  },
  {
   "cell_type": "markdown",
   "id": "18dad027-2a36-49f3-b063-685b059d5974",
   "metadata": {},
   "source": [
    "Атрибут `values` возвращает **массив значений** объекта `Series`."
   ]
  },
  {
   "cell_type": "code",
   "execution_count": 15,
   "id": "b79ed68d-aa4a-4517-82af-d7e59f0d43c3",
   "metadata": {},
   "outputs": [
    {
     "data": {
      "text/plain": [
       "array([20, 30, 40], dtype=int64)"
      ]
     },
     "metadata": {},
     "output_type": "display_data"
    }
   ],
   "source": [
    "display(srs.values)"
   ]
  },
  {
   "cell_type": "markdown",
   "id": "ce465ed4-39c4-4644-bbaf-955aa19ead4d",
   "metadata": {},
   "source": [
    "Если, например, нужно вывести массив значений меток индекса, а не объект `pandas.Index`, то используется комбинация атрибутов `index` и `values`:"
   ]
  },
  {
   "cell_type": "code",
   "execution_count": 16,
   "id": "741a40af-809a-4d4d-bd92-7b50601d0621",
   "metadata": {},
   "outputs": [
    {
     "data": {
      "text/plain": [
       "array(['A', 'B', 'C'], dtype=object)"
      ]
     },
     "metadata": {},
     "output_type": "display_data"
    }
   ],
   "source": [
    "display(srs.index.values)"
   ]
  },
  {
   "cell_type": "markdown",
   "id": "1e0a4f0e-5762-4a67-aff6-b8af5c435d3a",
   "metadata": {},
   "source": [
    "#### Атрибут `dtype`"
   ]
  },
  {
   "cell_type": "markdown",
   "id": "e06587f1-f777-44f3-9d75-27a22e64216f",
   "metadata": {},
   "source": [
    "Еще один способ, помимо метода `info()`, узнать информацию о типе данных - применить к объекту `Series` атрибут `dtype`"
   ]
  },
  {
   "cell_type": "code",
   "execution_count": 17,
   "id": "e0a81e56-d2b7-4bf3-be8e-dc9a6b60e595",
   "metadata": {},
   "outputs": [
    {
     "name": "stdout",
     "output_type": "stream",
     "text": [
      "ММК             52.5\n",
      "Северсталь    1386.2\n",
      "НЛМК           214.2\n",
      "dtype: float64\n"
     ]
    }
   ],
   "source": [
    "shares = {'ММК': 52.50, 'Северсталь': 1386.20, 'НЛМК': 214.20} \n",
    "srs = pd.Series(shares)\n",
    "print(srs)"
   ]
  },
  {
   "cell_type": "code",
   "execution_count": 18,
   "id": "22e6e0d9-fc43-4fc2-b970-c89d9a384ab0",
   "metadata": {},
   "outputs": [
    {
     "name": "stdout",
     "output_type": "stream",
     "text": [
      "float64\n"
     ]
    }
   ],
   "source": [
    "print(srs.dtype)"
   ]
  },
  {
   "cell_type": "markdown",
   "id": "054b635a-5955-483f-b3ca-6acdf2798729",
   "metadata": {},
   "source": [
    "Получили информацию, что серия *srs* содержит данные типа `'float64'`."
   ]
  },
  {
   "cell_type": "markdown",
   "id": "ba46f314-4cb4-4f03-8dc6-9d2278801a10",
   "metadata": {},
   "source": [
    "#### Параметр `dtype` конструктора класса Series"
   ]
  },
  {
   "cell_type": "markdown",
   "id": "70a42383-8827-413b-a81e-ea14687fb1a4",
   "metadata": {},
   "source": [
    "`class pandas.Series(data=None, index=None, dtype=None, name=None, copy=False)`"
   ]
  },
  {
   "cell_type": "markdown",
   "id": "327e7e7b-9daf-4b5e-8b11-bf770ce07c3b",
   "metadata": {},
   "source": [
    "Параметр `dtype` конструктора класса *Series* позволяет пользователю задавать тип данных при создании серии.\n",
    "\n",
    "Например, из словаря `shares = {'ММК': 52, 'Северсталь': 1386.20, 'НЛМК': 214.20}`, если не указывать тип данных при создании серии, сформируется объект *Series*, тип данных в котором будет `'float64'`.\n",
    "\n",
    "Создадим `Series` c типом данных `'object'`:"
   ]
  },
  {
   "cell_type": "code",
   "execution_count": 19,
   "id": "a3872886-6685-4705-8997-2489107020cf",
   "metadata": {},
   "outputs": [
    {
     "name": "stdout",
     "output_type": "stream",
     "text": [
      "ММК               52\n",
      "Северсталь    1386.2\n",
      "НЛМК           214.2\n",
      "dtype: object\n"
     ]
    }
   ],
   "source": [
    "shares = {'ММК': 52, 'Северсталь': 1386.20, 'НЛМК': 214.20} \n",
    "srs = pd.Series(shares, dtype='object')\n",
    "print(srs)"
   ]
  },
  {
   "cell_type": "markdown",
   "id": "dc76c3d5-873d-4670-90c1-085c5241a948",
   "metadata": {},
   "source": [
    "#### Функция `type()`"
   ]
  },
  {
   "cell_type": "markdown",
   "id": "a28a55d5-0eb5-45ef-b027-1d4183ebe0ea",
   "metadata": {},
   "source": [
    "Функция `type()` позволяет получить информацию не о типе данных внутри объекта, а узнать к какому классу принадлежит сам объект."
   ]
  },
  {
   "cell_type": "code",
   "execution_count": 20,
   "id": "897ad757-d726-4536-8831-bc0cfeb059b7",
   "metadata": {},
   "outputs": [
    {
     "name": "stdout",
     "output_type": "stream",
     "text": [
      "<class 'pandas.core.series.Series'>\n"
     ]
    }
   ],
   "source": [
    "print(type(srs))"
   ]
  },
  {
   "cell_type": "markdown",
   "id": "eca31c1e-9dbd-4bc5-b898-89212fb6d295",
   "metadata": {},
   "source": [
    "#### Метод astype()"
   ]
  },
  {
   "cell_type": "markdown",
   "id": "91c3ecd4-0b6a-40fc-871d-6b3ca0b7ddec",
   "metadata": {},
   "source": [
    "В объектах `Series` возможно производить изменения типов данных, что позволяет сделать метод `astype()`. Этому методу передается тот тип данных, в который нужно преобразовать значения структуры *Series*."
   ]
  },
  {
   "cell_type": "code",
   "execution_count": 21,
   "id": "7d2a881b-7cc3-4847-bf78-eccc1db108f2",
   "metadata": {},
   "outputs": [
    {
     "name": "stdout",
     "output_type": "stream",
     "text": [
      "ММК               52\n",
      "Северсталь    1386.2\n",
      "НЛМК           214.2\n",
      "dtype: object\n"
     ]
    },
    {
     "data": {
      "text/plain": [
       "ММК             52.0\n",
       "Северсталь    1386.2\n",
       "НЛМК           214.2\n",
       "dtype: float64"
      ]
     },
     "execution_count": 21,
     "metadata": {},
     "output_type": "execute_result"
    }
   ],
   "source": [
    "shares = {'ММК': 52, 'Северсталь': 1386.20, 'НЛМК': 214.20} \n",
    "srs = pd.Series(shares, dtype='object')\n",
    "print(srs)\n",
    "srs.astype('float64')"
   ]
  },
  {
   "cell_type": "markdown",
   "id": "4057ea7b-cf68-4778-be2a-216a8b11f890",
   "metadata": {},
   "source": [
    "Видим, что вроде как тип данных поменялся на вещественный. Но в данном случае произошло создание нового объекта `Series`, а в самой серии *srs* тип данных остался прежним:"
   ]
  },
  {
   "cell_type": "code",
   "execution_count": 22,
   "id": "bbb0a6d0-1c2c-42a3-bb9c-85387644b308",
   "metadata": {},
   "outputs": [
    {
     "name": "stdout",
     "output_type": "stream",
     "text": [
      "ММК               52\n",
      "Северсталь    1386.2\n",
      "НЛМК           214.2\n",
      "dtype: object\n"
     ]
    }
   ],
   "source": [
    "print(srs)"
   ]
  },
  {
   "cell_type": "markdown",
   "id": "77c23c18-b4c9-42ed-b952-ccf5a9b0aded",
   "metadata": {},
   "source": [
    "Если необходимо, чтобы тип данных поменялся и в исходной серии, используйте оператор присваивания `'='`:"
   ]
  },
  {
   "cell_type": "code",
   "execution_count": 23,
   "id": "03903f6b-1d09-49de-9a50-cca0777637d9",
   "metadata": {},
   "outputs": [
    {
     "name": "stdout",
     "output_type": "stream",
     "text": [
      "ММК             52.0\n",
      "Северсталь    1386.2\n",
      "НЛМК           214.2\n",
      "dtype: float64\n"
     ]
    }
   ],
   "source": [
    "srs = srs.astype('float64')\n",
    "print(srs)"
   ]
  },
  {
   "cell_type": "markdown",
   "id": "3e585125-454a-486e-b4e5-3c774bf86069",
   "metadata": {},
   "source": [
    "#### Параметр `copy` конструктора класса Series"
   ]
  },
  {
   "cell_type": "markdown",
   "id": "c32ff7b8-cd48-4f0c-a8e7-ee7d5816fb78",
   "metadata": {},
   "source": [
    "`class pandas.Series(data=None, index=None, dtype=None, name=None, copy=False)`\n",
    "\n",
    "Чтобы в массиве, на базе которого создается объект `Series`, не происходили изменения, когда меняются значения в серии, для этого в конструкторе `Series` предусмотрен параметр `copy`. Если этому параметру передать значение `True`, то серия создастся на копии массива, и любые последующие изменения в объекте `Series` никак не отразятся на исходном массиве."
   ]
  },
  {
   "cell_type": "code",
   "execution_count": 24,
   "id": "ffff583a-7497-4dc4-84e7-bab485d70663",
   "metadata": {},
   "outputs": [
    {
     "name": "stdout",
     "output_type": "stream",
     "text": [
      "[  52.5 1386.2  214.2]\n"
     ]
    }
   ],
   "source": [
    "arr = np.array([52.50, 1386.20, 214.20])\n",
    "print(arr)"
   ]
  },
  {
   "cell_type": "code",
   "execution_count": 25,
   "id": "b95c7012-047c-44a9-807e-ad4586d71ebf",
   "metadata": {},
   "outputs": [
    {
     "name": "stdout",
     "output_type": "stream",
     "text": [
      "ММК             52.5\n",
      "Северсталь    1386.2\n",
      "НЛМК           214.2\n",
      "dtype: float64\n"
     ]
    }
   ],
   "source": [
    "srs = pd.Series(arr, index=['ММК', 'Северсталь', 'НЛМК'], copy=True)\n",
    "print(srs)"
   ]
  },
  {
   "cell_type": "markdown",
   "id": "0af10ae8-20f1-4da2-a24d-68283bc86095",
   "metadata": {},
   "source": [
    "Поменяем значение для `'ММК'`:"
   ]
  },
  {
   "cell_type": "code",
   "execution_count": 26,
   "id": "f3dd1923-5141-4d16-99cf-b4c0b26d73e4",
   "metadata": {},
   "outputs": [
    {
     "name": "stdout",
     "output_type": "stream",
     "text": [
      "ММК             50.0\n",
      "Северсталь    1386.2\n",
      "НЛМК           214.2\n",
      "dtype: float64\n"
     ]
    }
   ],
   "source": [
    "srs['ММК'] = 50\n",
    "print(srs)"
   ]
  },
  {
   "cell_type": "markdown",
   "id": "39a2e255-f10d-40f5-8cc0-6e267351d867",
   "metadata": {},
   "source": [
    "Исходный массив:"
   ]
  },
  {
   "cell_type": "code",
   "execution_count": 27,
   "id": "466bc5d8-8abd-42e4-ab9f-72e867bf8f91",
   "metadata": {},
   "outputs": [
    {
     "name": "stdout",
     "output_type": "stream",
     "text": [
      "[  52.5 1386.2  214.2]\n"
     ]
    }
   ],
   "source": [
    "print(arr)"
   ]
  },
  {
   "cell_type": "markdown",
   "id": "1937fb3a-2815-4968-b996-4b473dbb24a6",
   "metadata": {},
   "source": [
    "#### Параметр `name` конструктора класса Series"
   ]
  },
  {
   "cell_type": "markdown",
   "id": "bc1f02cd-53f8-4214-819d-f78d499ec70a",
   "metadata": {},
   "source": [
    "Параметр `name` используется для создания имени у объекта `Series`.\n",
    "\n",
    "Создадим серию *srs* из массива arr и назовем ее `'Shares'`:"
   ]
  },
  {
   "cell_type": "code",
   "execution_count": 28,
   "id": "3798fca7-cf7b-4e3b-b61b-96c2eff60346",
   "metadata": {},
   "outputs": [
    {
     "name": "stdout",
     "output_type": "stream",
     "text": [
      "ММК             52.5\n",
      "Северсталь    1386.2\n",
      "НЛМК           214.2\n",
      "Name: Shares, dtype: float64\n"
     ]
    }
   ],
   "source": [
    "srs = pd.Series(arr, index=['ММК', 'Северсталь', 'НЛМК'], name='Shares')\n",
    "print(srs)"
   ]
  },
  {
   "cell_type": "markdown",
   "id": "5cd17d53-9c76-488a-8216-54de3a0b22d6",
   "metadata": {},
   "source": [
    "### Типы данных"
   ]
  },
  {
   "cell_type": "markdown",
   "id": "86726be3-fd55-4e2d-a5cc-68f499caed7e",
   "metadata": {},
   "source": [
    "Проверка типа данных - это одно из первых действий, которое аналитик должен произвести после загрузки новых данных в *pandas* для дальнейшего анализа.\n",
    "\n",
    "Чтобы в процессе анализа данных не получать ошибки или неожиданные результаты, нужно использовать правильные типы данных. Язык *Python* содержит такие типы данных, как: str, int, float, bool, datetime. Библиотека же *pandas* содержит свой набор типов данных для хранения и манипулирования ими.\n",
    "\n",
    "Основные типы данных, используемые в *pandas*:\n",
    "- `object` - текстовые или смешанные числовые и нечисловые значения;\n",
    "- `int64` - целые числа;\n",
    "- `float64` - числа с плавающей точкой;\n",
    "- `bool` - булевое значение: True/False;\n",
    "- `datetime64[ns]` - дата и время;\n",
    "- `timedelta64[ns]` - разность двух datetime элементов;\n",
    "- `category` - ограниченное множество текстовых элементов."
   ]
  },
  {
   "cell_type": "markdown",
   "id": "c8648ae0-d937-4c49-afc7-bf15fc622a8d",
   "metadata": {},
   "source": [
    "### Работа с конкретными значениями объекта Series"
   ]
  },
  {
   "cell_type": "markdown",
   "id": "3fc7c741-a98e-40b0-9ce2-659acdb6a894",
   "metadata": {},
   "source": [
    "#### Обращаемся к конкретным значениям объекта Series"
   ]
  },
  {
   "cell_type": "markdown",
   "id": "7281d3ee-a657-4d39-a598-f4ecfe13f196",
   "metadata": {},
   "source": [
    " Для того, чтобы получить значение конкретного элемента серии, нужно в квадратных скобках указать метку индекса этого элементаод:"
   ]
  },
  {
   "cell_type": "code",
   "execution_count": 29,
   "id": "01ca69b9-79b1-42dd-9c75-e16aa69157fb",
   "metadata": {},
   "outputs": [
    {
     "name": "stdout",
     "output_type": "stream",
     "text": [
      "0      52.5\n",
      "1    1386.2\n",
      "2     214.2\n",
      "dtype: float64\n"
     ]
    }
   ],
   "source": [
    "arr = np.array([52.50, 1386.20, 214.20])\n",
    "srs = pd.Series(arr)\n",
    "print(srs)"
   ]
  },
  {
   "cell_type": "code",
   "execution_count": 30,
   "id": "0d5c3022-200b-42ff-b4ca-7650efd1efc8",
   "metadata": {},
   "outputs": [
    {
     "name": "stdout",
     "output_type": "stream",
     "text": [
      "52.5\n"
     ]
    }
   ],
   "source": [
    "print(srs[0])"
   ]
  },
  {
   "cell_type": "markdown",
   "id": "cecd880a-2471-4e91-b135-674ed39f0afc",
   "metadata": {},
   "source": [
    "Для получения значений нескольких элеменов, используются срезы:"
   ]
  },
  {
   "cell_type": "code",
   "execution_count": 31,
   "id": "c6db7ec4-98cc-497d-ab32-d7c240080589",
   "metadata": {},
   "outputs": [
    {
     "name": "stdout",
     "output_type": "stream",
     "text": [
      "0      52.5\n",
      "1    1386.2\n",
      "dtype: float64\n"
     ]
    }
   ],
   "source": [
    "print(srs[0:2])"
   ]
  },
  {
   "cell_type": "markdown",
   "id": "491f8bc5-f577-45a0-a134-ce3c1bcfb8a5",
   "metadata": {},
   "source": [
    "Если объект *Series*  имеет нечисловую индексацию, то получить конкретное значение можно как и по числовой метке индекса, так и передав в квадратных скобках строку с именем метки индекса.\n",
    "\n",
    "Создадим серию с именованными индексами:"
   ]
  },
  {
   "cell_type": "code",
   "execution_count": 32,
   "id": "b0ab18f0-66e4-40d1-995d-b7efd73b8685",
   "metadata": {},
   "outputs": [
    {
     "name": "stdout",
     "output_type": "stream",
     "text": [
      "ММК             52.5\n",
      "Северсталь    1386.2\n",
      "НЛМК           214.2\n",
      "dtype: float64\n"
     ]
    }
   ],
   "source": [
    "arr = np.array([52.50, 1386.20, 214.20])\n",
    "srs = pd.Series(arr, index=['ММК', 'Северсталь', 'НЛМК'])\n",
    "print(srs)"
   ]
  },
  {
   "cell_type": "markdown",
   "id": "3ce1dcaf-64cf-4737-9a70-5368104fb44a",
   "metadata": {},
   "source": [
    "Получим значение по метке 'НЛМК':"
   ]
  },
  {
   "cell_type": "code",
   "execution_count": 33,
   "id": "f7cd7091-539c-4c0e-8ee4-512e539da88e",
   "metadata": {},
   "outputs": [
    {
     "name": "stdout",
     "output_type": "stream",
     "text": [
      "214.2\n"
     ]
    }
   ],
   "source": [
    "print(srs['НЛМК'])"
   ]
  },
  {
   "cell_type": "markdown",
   "id": "f9bc2d2d-e446-4990-9c1b-159d53b4d04a",
   "metadata": {},
   "source": [
    "Но если укажем числовую индексацию, то результат будет аналогичным:"
   ]
  },
  {
   "cell_type": "code",
   "execution_count": 34,
   "id": "e65c2e93-5c33-4ab0-b001-72033aa240de",
   "metadata": {},
   "outputs": [
    {
     "name": "stdout",
     "output_type": "stream",
     "text": [
      "214.2\n"
     ]
    },
    {
     "name": "stderr",
     "output_type": "stream",
     "text": [
      "C:\\Users\\ardat\\AppData\\Local\\Temp\\ipykernel_21036\\1079724254.py:1: FutureWarning: Series.__getitem__ treating keys as positions is deprecated. In a future version, integer keys will always be treated as labels (consistent with DataFrame behavior). To access a value by position, use `ser.iloc[pos]`\n",
      "  print(srs[2])\n"
     ]
    }
   ],
   "source": [
    "print(srs[2])"
   ]
  },
  {
   "cell_type": "markdown",
   "id": "ef099486-dea2-40d5-a1f5-2c29dc010ea4",
   "metadata": {},
   "source": [
    "#### Меняем значение"
   ]
  },
  {
   "cell_type": "markdown",
   "id": "c4fd32d3-6f80-4171-bd0e-7641d7706e05",
   "metadata": {},
   "source": [
    "Для изменения значений в объектах *Series* используется оператор присваивания `'='`."
   ]
  },
  {
   "cell_type": "code",
   "execution_count": 35,
   "id": "06ef68ea-3e45-4f6f-90af-b3caa34870eb",
   "metadata": {},
   "outputs": [
    {
     "name": "stdout",
     "output_type": "stream",
     "text": [
      "ММК             50.0\n",
      "Северсталь    1386.2\n",
      "НЛМК           214.2\n",
      "dtype: float64\n"
     ]
    }
   ],
   "source": [
    "srs['ММК'] = 50\n",
    "print(srs)"
   ]
  },
  {
   "cell_type": "markdown",
   "id": "e2b30e9b-d0f2-4e03-878f-092799f2244f",
   "metadata": {},
   "source": [
    "Значение поменялось с 52.5 на 50.0.\n",
    "\n",
    "Но если мы теперь посмотрим на массив *NumPy*, используя который мы создали серию srs, то увидим, что и в нём произошло изменение значения с 52.5 на 50.0"
   ]
  },
  {
   "cell_type": "code",
   "execution_count": 36,
   "id": "de20e325-c9b2-46ce-8ecb-9605c22a01a7",
   "metadata": {},
   "outputs": [
    {
     "name": "stdout",
     "output_type": "stream",
     "text": [
      "[  50.  1386.2  214.2]\n"
     ]
    }
   ],
   "source": [
    "print(arr)"
   ]
  },
  {
   "cell_type": "markdown",
   "id": "518789ce-545b-45fb-bd87-a4b98ab69326",
   "metadata": {},
   "source": [
    "#### Добавление нового элемента в структуру Series"
   ]
  },
  {
   "cell_type": "markdown",
   "id": "bafe6660-a08f-489e-8b29-d01e16d54f24",
   "metadata": {},
   "source": [
    "Для того, чтобы добавить новый элемент в структуру `Series`, достаточно указать новый индекс для объекта и задать значение элементу."
   ]
  },
  {
   "cell_type": "code",
   "execution_count": 37,
   "id": "90eb1bf9-8b3f-462f-b729-31bee04196c3",
   "metadata": {},
   "outputs": [
    {
     "name": "stdout",
     "output_type": "stream",
     "text": [
      "Газпром    170\n",
      "Газпром    170\n",
      "Газпром    170\n",
      "dtype: int64\n"
     ]
    }
   ],
   "source": [
    "srs = pd.Series(170, index=['Газпром', 'Газпром', 'Газпром'])\n",
    "print(srs)"
   ]
  },
  {
   "cell_type": "code",
   "execution_count": 38,
   "id": "e8cc9f82-0760-4d54-ad0f-f432afdb4842",
   "metadata": {},
   "outputs": [
    {
     "name": "stdout",
     "output_type": "stream",
     "text": [
      "Газпром     170\n",
      "Газпром     170\n",
      "Газпром     170\n",
      "Новатэк    1750\n",
      "dtype: int64\n"
     ]
    }
   ],
   "source": [
    "srs['Новатэк'] = 1750\n",
    "print(srs)"
   ]
  },
  {
   "cell_type": "markdown",
   "id": "df8450fe-5532-48df-8ccc-c13a829f72f5",
   "metadata": {},
   "source": [
    "Пример 2:"
   ]
  },
  {
   "cell_type": "code",
   "execution_count": 39,
   "id": "f0368546-01c3-44e7-9f67-f514bddeadcf",
   "metadata": {},
   "outputs": [
    {
     "name": "stdout",
     "output_type": "stream",
     "text": [
      "0    20\n",
      "1    30\n",
      "2    40\n",
      "dtype: int64\n"
     ]
    }
   ],
   "source": [
    "srs = pd.Series(data=[20, 30, 40])\n",
    "print(srs)"
   ]
  },
  {
   "cell_type": "code",
   "execution_count": 40,
   "id": "f327f4a0-b60c-4638-aadd-0bc4b4a031dd",
   "metadata": {},
   "outputs": [
    {
     "name": "stdout",
     "output_type": "stream",
     "text": [
      "0    20\n",
      "1    30\n",
      "2    40\n",
      "3    50\n",
      "dtype: int64\n"
     ]
    }
   ],
   "source": [
    "srs[3] = 50\n",
    "print(srs)"
   ]
  },
  {
   "cell_type": "markdown",
   "id": "b3f80a0c-13ee-4aee-bd75-2a86bc70a7ba",
   "metadata": {},
   "source": [
    "#### Удаление элементов из структуры Series"
   ]
  },
  {
   "cell_type": "markdown",
   "id": "e8d5479b-2522-4eaa-925c-f70f287aac7e",
   "metadata": {},
   "source": [
    "Для удаления элементов из объекта `Series` используется метод `drop()`, которому передается список удаляемых меток."
   ]
  },
  {
   "cell_type": "code",
   "execution_count": 41,
   "id": "e0659ac7-4637-4ab8-8154-684512139bc0",
   "metadata": {},
   "outputs": [
    {
     "name": "stdout",
     "output_type": "stream",
     "text": [
      "0    20\n",
      "1    30\n",
      "2    40\n",
      "3    50\n",
      "dtype: int64\n"
     ]
    }
   ],
   "source": [
    "print(srs)"
   ]
  },
  {
   "cell_type": "code",
   "execution_count": 42,
   "id": "f22cd3a6-a27c-45ca-9435-d5e5e329281f",
   "metadata": {},
   "outputs": [
    {
     "data": {
      "text/plain": [
       "0    20\n",
       "3    50\n",
       "dtype: int64"
      ]
     },
     "execution_count": 42,
     "metadata": {},
     "output_type": "execute_result"
    }
   ],
   "source": [
    "srs.drop([1, 2])"
   ]
  },
  {
   "cell_type": "markdown",
   "id": "299dbe6e-b536-4495-b362-2928dad512be",
   "metadata": {},
   "source": [
    "Стоит отметить, что при использовании метода `drop()`, по умолчанию, текущая структура не изменяется, а возвращается новый объект `Series`, в котором будут отсутствовать выбранные метки.\n",
    "\n",
    "Если вывести на печать серию *srs*, то увидим, что в ней не произошли изменения:"
   ]
  },
  {
   "cell_type": "code",
   "execution_count": 43,
   "id": "2469a654-2f18-45f0-a695-f54aca495beb",
   "metadata": {},
   "outputs": [
    {
     "name": "stdout",
     "output_type": "stream",
     "text": [
      "0    20\n",
      "1    30\n",
      "2    40\n",
      "3    50\n",
      "dtype: int64\n"
     ]
    }
   ],
   "source": [
    "print(srs)"
   ]
  },
  {
   "cell_type": "markdown",
   "id": "6fa2f41b-a496-41e5-9654-2dd032d5bc23",
   "metadata": {},
   "source": [
    "Если нужно изменить непосредственно саму структуру `Series`, то методу `drop()` дополнительно нужно передать параметр `inplace=True`:"
   ]
  },
  {
   "cell_type": "code",
   "execution_count": 44,
   "id": "665a5fc2-1a03-47ca-af6d-67a1143e2002",
   "metadata": {},
   "outputs": [
    {
     "name": "stdout",
     "output_type": "stream",
     "text": [
      "0    20\n",
      "3    50\n",
      "dtype: int64\n"
     ]
    }
   ],
   "source": [
    "srs.drop([1, 2], inplace=True)\n",
    "print(srs)"
   ]
  },
  {
   "cell_type": "markdown",
   "id": "84652926-6f40-45cf-a637-573352f71112",
   "metadata": {},
   "source": [
    "#### Арифметические операции"
   ]
  },
  {
   "cell_type": "markdown",
   "id": "954cc3e1-9694-4c6d-95af-0dc2f78f0954",
   "metadata": {},
   "source": [
    "Со структурами данных *pandas* можно поэлементно проводить операции сложения, вычитания, умножения, деления."
   ]
  },
  {
   "cell_type": "code",
   "execution_count": 45,
   "id": "dc87aaf4-8787-46ae-bc75-de0d75d3c5e2",
   "metadata": {},
   "outputs": [
    {
     "name": "stdout",
     "output_type": "stream",
     "text": [
      "0    1\n",
      "1    2\n",
      "2    3\n",
      "dtype: int64\n",
      "\n",
      "0    10\n",
      "1    20\n",
      "2    30\n",
      "3    40\n",
      "dtype: int64\n"
     ]
    }
   ],
   "source": [
    "srs1 = pd.Series([1, 2, 3])\n",
    "srs2 = pd.Series([10, 20, 30, 40])\n",
    "print(srs1, srs2, sep='\\n\\n')"
   ]
  },
  {
   "cell_type": "markdown",
   "id": "ed6b2861-7a00-4b79-a3fb-7794c5589cf6",
   "metadata": {},
   "source": [
    "##### Сложение. Метод `add()`"
   ]
  },
  {
   "cell_type": "markdown",
   "id": "d8caa3fd-5add-4cd0-82d1-295c7c898a7b",
   "metadata": {},
   "source": [
    "\n",
    "Складывать объекты` Serie`s можно как с помощью оператора сложения` '+`', так и при помощи метода` add(`)+':"
   ]
  },
  {
   "cell_type": "code",
   "execution_count": 46,
   "id": "6ef599a5-3aed-4795-a1ff-2038fc6910fc",
   "metadata": {},
   "outputs": [
    {
     "name": "stdout",
     "output_type": "stream",
     "text": [
      "0    11.0\n",
      "1    22.0\n",
      "2    33.0\n",
      "3     NaN\n",
      "dtype: float64\n"
     ]
    }
   ],
   "source": [
    "srs = srs1 + srs2\n",
    "print(srs)"
   ]
  },
  {
   "cell_type": "markdown",
   "id": "223e6624-4a39-4e90-b7f1-a077b37ffd19",
   "metadata": {},
   "source": [
    "Арифметические операции двух и более объектов `Series` происходят поэлементно по индексам. В нашем примере объекты `Series` имеют разную размерность, поэтому элемент с индексом 3 получил значение `NaN`. Это произошло из-за того, что *pandas* в одном из объектов не нашел значения с индексом 3."
   ]
  },
  {
   "cell_type": "markdown",
   "id": "5fb98152-3ce9-46fd-8754-053ee32cdf6b",
   "metadata": {},
   "source": [
    "Решить проблему с пропущенными значениями, при сложении структур `Series` разных размерностей, позволяет использование метода `add()`, который для подобных случаев имеет в своем составе параметр `fill_value`."
   ]
  },
  {
   "cell_type": "code",
   "execution_count": 47,
   "id": "b53b63d5-2610-4cb9-bb1e-4f6788f79991",
   "metadata": {},
   "outputs": [
    {
     "data": {
      "text/plain": [
       "0    11.0\n",
       "1    22.0\n",
       "2    33.0\n",
       "3     NaN\n",
       "dtype: float64"
      ]
     },
     "execution_count": 47,
     "metadata": {},
     "output_type": "execute_result"
    }
   ],
   "source": [
    "srs1.add(srs2)"
   ]
  },
  {
   "cell_type": "markdown",
   "id": "2620898e-4f03-4aea-a196-624735f42719",
   "metadata": {},
   "source": [
    "Параметру `fill_value` передается значение, которое \"заполняет\" пропуски, тем самым выравнивая ряды."
   ]
  },
  {
   "cell_type": "code",
   "execution_count": 48,
   "id": "4d1ed96a-ece0-4cb1-8e68-082bba946f4e",
   "metadata": {},
   "outputs": [
    {
     "data": {
      "text/plain": [
       "0    11.0\n",
       "1    22.0\n",
       "2    33.0\n",
       "3    40.0\n",
       "dtype: float64"
      ]
     },
     "execution_count": 48,
     "metadata": {},
     "output_type": "execute_result"
    }
   ],
   "source": [
    "srs1.add(srs2, fill_value=0)"
   ]
  },
  {
   "cell_type": "markdown",
   "id": "fb35c6e6-c72b-4d43-9e86-524abdf9a150",
   "metadata": {},
   "source": [
    "К элементам структуры также можно добавить скалярное значение:"
   ]
  },
  {
   "cell_type": "code",
   "execution_count": 49,
   "id": "146ec902-c842-4ff4-9211-00e5dc5bd9f1",
   "metadata": {},
   "outputs": [
    {
     "data": {
      "text/plain": [
       "0    101\n",
       "1    102\n",
       "2    103\n",
       "dtype: int64"
      ]
     },
     "execution_count": 49,
     "metadata": {},
     "output_type": "execute_result"
    }
   ],
   "source": [
    "srs1 + 100"
   ]
  },
  {
   "cell_type": "code",
   "execution_count": 50,
   "id": "9cc7a01c-b3c7-4520-9e9c-578a1ad2d9e2",
   "metadata": {},
   "outputs": [
    {
     "data": {
      "text/plain": [
       "0    101\n",
       "1    102\n",
       "2    103\n",
       "dtype: int64"
      ]
     },
     "execution_count": 50,
     "metadata": {},
     "output_type": "execute_result"
    }
   ],
   "source": [
    "srs1.add(100)"
   ]
  },
  {
   "cell_type": "markdown",
   "id": "40882f94-3dc8-47f6-94b3-f76afd66693b",
   "metadata": {},
   "source": [
    "##### Вычитание. Метод `sub()`"
   ]
  },
  {
   "cell_type": "markdown",
   "id": "f2cef9d8-d457-4e68-bde3-7cd06e757193",
   "metadata": {},
   "source": [
    "Вычитать один объект `Series` из другого можно как с помощью оператора вычитания `'-'`, так и с использованием метода `sub()`."
   ]
  },
  {
   "cell_type": "code",
   "execution_count": 51,
   "id": "1ff07236-bf6a-4ebd-9575-8ddf647d4c8c",
   "metadata": {},
   "outputs": [
    {
     "name": "stdout",
     "output_type": "stream",
     "text": [
      "0    1\n",
      "1    2\n",
      "2    3\n",
      "dtype: int64\n",
      "\n",
      "0    10\n",
      "1    20\n",
      "2    30\n",
      "3    40\n",
      "dtype: int64\n"
     ]
    }
   ],
   "source": [
    "srs1 = pd.Series([1, 2, 3])\n",
    "srs2 = pd.Series([10, 20, 30, 40])\n",
    "print(srs1, srs2, sep='\\n\\n')"
   ]
  },
  {
   "cell_type": "markdown",
   "id": "e2b1d0bf-7a9b-4594-b549-8651e786254b",
   "metadata": {},
   "source": [
    "Вычтем серию *srs2* из *srs1*:"
   ]
  },
  {
   "cell_type": "code",
   "execution_count": 52,
   "id": "be6d9743-389d-443c-a1b9-bb7694d39182",
   "metadata": {},
   "outputs": [
    {
     "name": "stdout",
     "output_type": "stream",
     "text": [
      "0    -9.0\n",
      "1   -18.0\n",
      "2   -27.0\n",
      "3     NaN\n",
      "dtype: float64\n"
     ]
    }
   ],
   "source": [
    "srs = srs1 - srs2\n",
    "print(srs)"
   ]
  },
  {
   "cell_type": "markdown",
   "id": "278bf72a-27f7-4d60-a035-963852d68c19",
   "metadata": {},
   "source": [
    "Теперь проделаем ту же самую манипуляцию с использованием метода `sub()` с параметром `fill_value=0`:"
   ]
  },
  {
   "cell_type": "code",
   "execution_count": 53,
   "id": "4baf43bf-29fb-49d8-b72a-c764c917e892",
   "metadata": {},
   "outputs": [
    {
     "data": {
      "text/plain": [
       "0    -9.0\n",
       "1   -18.0\n",
       "2   -27.0\n",
       "3   -40.0\n",
       "dtype: float64"
      ]
     },
     "execution_count": 53,
     "metadata": {},
     "output_type": "execute_result"
    }
   ],
   "source": [
    "srs1.sub(srs2, fill_value=0)"
   ]
  },
  {
   "cell_type": "markdown",
   "id": "95edbc0b-a824-49ee-9e6b-3db272b518a8",
   "metadata": {},
   "source": [
    "##### Умножение. `Метод mul()`"
   ]
  },
  {
   "cell_type": "markdown",
   "id": "b1d78332-cbd7-4a71-870a-2b9f68cc298a",
   "metadata": {},
   "source": [
    "Произведение структур `Series` осуществляется или с использованием оператора умножения `'*'`, или при помощи метода `mul()`."
   ]
  },
  {
   "cell_type": "code",
   "execution_count": 54,
   "id": "a7accc3b-a0bc-4777-84a0-aa7bb84dff53",
   "metadata": {},
   "outputs": [],
   "source": [
    "srs1 = pd.Series([1, 2, 3])\n",
    "srs2 = pd.Series([10, 20, 30, 40])"
   ]
  },
  {
   "cell_type": "code",
   "execution_count": 55,
   "id": "9d555446-1dab-4b33-a69d-a60c31f68199",
   "metadata": {},
   "outputs": [
    {
     "name": "stdout",
     "output_type": "stream",
     "text": [
      "0    10.0\n",
      "1    40.0\n",
      "2    90.0\n",
      "3     NaN\n",
      "dtype: float64\n"
     ]
    }
   ],
   "source": [
    "srs = srs1 * srs2\n",
    "print(srs)"
   ]
  },
  {
   "cell_type": "markdown",
   "id": "c0f79176-7093-4f78-a955-98ac45867c97",
   "metadata": {},
   "source": [
    "С использованием метода `mul()` с параметром `fill_value=1`:"
   ]
  },
  {
   "cell_type": "code",
   "execution_count": 56,
   "id": "1758bf00-fc60-472e-a041-57ade5d2145c",
   "metadata": {},
   "outputs": [
    {
     "data": {
      "text/plain": [
       "0    10.0\n",
       "1    40.0\n",
       "2    90.0\n",
       "3    40.0\n",
       "dtype: float64"
      ]
     },
     "execution_count": 56,
     "metadata": {},
     "output_type": "execute_result"
    }
   ],
   "source": [
    "srs1.mul(srs2, fill_value=1)"
   ]
  },
  {
   "cell_type": "markdown",
   "id": "d48e9ed4-8e01-4a0f-a12a-ae9190c6ebe5",
   "metadata": {},
   "source": [
    "Для возведения в степень используется оператор `'**'`:"
   ]
  },
  {
   "cell_type": "code",
   "execution_count": 57,
   "id": "6764d530-54b5-4017-8dc0-462f4716d0fd",
   "metadata": {},
   "outputs": [
    {
     "data": {
      "text/plain": [
       "0    1\n",
       "1    4\n",
       "2    9\n",
       "dtype: int64"
      ]
     },
     "execution_count": 57,
     "metadata": {},
     "output_type": "execute_result"
    }
   ],
   "source": [
    "srs1 ** 2"
   ]
  },
  {
   "cell_type": "markdown",
   "id": "a3e759b5-0a0b-4c42-ad05-0b0ba9e2e1de",
   "metadata": {},
   "source": [
    "##### Деление. Метод `div()`"
   ]
  },
  {
   "cell_type": "markdown",
   "id": "8594bbeb-da12-4042-8258-f59a7bd454aa",
   "metadata": {},
   "source": [
    "Разделить один объект `Series` на другой можно или при помощи оператора деления `'/'`, или с использованием метода `div()`."
   ]
  },
  {
   "cell_type": "code",
   "execution_count": 58,
   "id": "883f0ed0-3e9c-437e-b0b5-76828dd1c087",
   "metadata": {},
   "outputs": [
    {
     "name": "stdout",
     "output_type": "stream",
     "text": [
      "0    1\n",
      "1    2\n",
      "2    3\n",
      "dtype: int64\n",
      "\n",
      "0    10\n",
      "1    20\n",
      "2    30\n",
      "3    40\n",
      "dtype: int64\n"
     ]
    }
   ],
   "source": [
    "srs1 = pd.Series([1, 2, 3])\n",
    "srs2 = pd.Series([10, 20, 30, 40])\n",
    "print(srs1, srs2, sep='\\n\\n')"
   ]
  },
  {
   "cell_type": "code",
   "execution_count": 59,
   "id": "0cfe6564-d64f-46df-9e2f-6a188fca73a6",
   "metadata": {},
   "outputs": [
    {
     "name": "stdout",
     "output_type": "stream",
     "text": [
      "0    10.0\n",
      "1    10.0\n",
      "2    10.0\n",
      "3     NaN\n",
      "dtype: float64\n"
     ]
    }
   ],
   "source": [
    "srs = srs2 / srs1\n",
    "print(srs)"
   ]
  },
  {
   "cell_type": "markdown",
   "id": "6c937829-8965-4947-8992-bc8bf6130868",
   "metadata": {},
   "source": [
    "С использованием метода `div()` и параметром `fill_value=1`:"
   ]
  },
  {
   "cell_type": "code",
   "execution_count": 60,
   "id": "12eea2a6-d4a6-4a25-b42c-31dc842932fd",
   "metadata": {},
   "outputs": [
    {
     "data": {
      "text/plain": [
       "0    10.0\n",
       "1    10.0\n",
       "2    10.0\n",
       "3    40.0\n",
       "dtype: float64"
      ]
     },
     "execution_count": 60,
     "metadata": {},
     "output_type": "execute_result"
    }
   ],
   "source": [
    "srs2.div(srs1, fill_value=1)"
   ]
  },
  {
   "cell_type": "markdown",
   "id": "11040463-6280-419c-a10f-dd40eca16dad",
   "metadata": {},
   "source": [
    "##### Абсолютное значение. Метод `abs()`"
   ]
  },
  {
   "cell_type": "markdown",
   "id": "1fe74f5b-5e79-4fc8-a527-76fd59bdc091",
   "metadata": {},
   "source": [
    "Метод `abs()` возвращает объект Series с абсолютными значениями (взятыми по модулю)."
   ]
  },
  {
   "cell_type": "code",
   "execution_count": 61,
   "id": "3c68c532-a0a3-4c2c-a37e-a618b2acf14f",
   "metadata": {},
   "outputs": [
    {
     "name": "stdout",
     "output_type": "stream",
     "text": [
      "0   -16\n",
      "1    -9\n",
      "2    35\n",
      "3    77\n",
      "4   -30\n",
      "dtype: int64\n"
     ]
    }
   ],
   "source": [
    "srs = pd.Series([-16, -9, 35, 77, -30])\n",
    "print(srs)"
   ]
  },
  {
   "cell_type": "code",
   "execution_count": 62,
   "id": "5a04fc91-6ba6-457b-8710-500e950120e5",
   "metadata": {},
   "outputs": [
    {
     "data": {
      "text/plain": [
       "0    16\n",
       "1     9\n",
       "2    35\n",
       "3    77\n",
       "4    30\n",
       "dtype: int64"
      ]
     },
     "execution_count": 62,
     "metadata": {},
     "output_type": "execute_result"
    }
   ],
   "source": [
    "srs.abs()"
   ]
  },
  {
   "cell_type": "markdown",
   "id": "8d37f5ae-69af-4a4c-a954-c538ea96c2bc",
   "metadata": {},
   "source": [
    "##### Округление значений. Метод `round()`"
   ]
  },
  {
   "cell_type": "markdown",
   "id": "1222dde9-0e3d-4aa3-9d52-f9a82d5ac3bf",
   "metadata": {},
   "source": [
    "Метод `round()` позволяет округлять значения в структурах `Series`. Параметру `decimals` этого метода передается целое число - количество знаков после запятой.s:"
   ]
  },
  {
   "cell_type": "code",
   "execution_count": 63,
   "id": "c00dedb7-d137-4637-bdd5-4214c0cb7506",
   "metadata": {},
   "outputs": [
    {
     "name": "stdout",
     "output_type": "stream",
     "text": [
      "0    1.280\n",
      "1    2.150\n",
      "2    3.648\n",
      "dtype: float64\n"
     ]
    }
   ],
   "source": [
    "srs = pd.Series([1.28, 2.15, 3.648])\n",
    "print(srs)"
   ]
  },
  {
   "cell_type": "code",
   "execution_count": 64,
   "id": "7eddf521-4505-4301-a0d8-1ce38d81ae42",
   "metadata": {},
   "outputs": [
    {
     "data": {
      "text/plain": [
       "0    1.28\n",
       "1    2.15\n",
       "2    3.65\n",
       "dtype: float64"
      ]
     },
     "execution_count": 64,
     "metadata": {},
     "output_type": "execute_result"
    }
   ],
   "source": [
    "srs.round(decimals=2)"
   ]
  },
  {
   "cell_type": "markdown",
   "id": "5fd7365a-e42f-4a90-9384-af78405480a7",
   "metadata": {},
   "source": [
    "Имя параметра `decimals` можно не указывать, а только прописать чиленное значение:"
   ]
  },
  {
   "cell_type": "code",
   "execution_count": 65,
   "id": "71386df4-a58b-4342-8d8c-a04f727ddd56",
   "metadata": {},
   "outputs": [
    {
     "data": {
      "text/plain": [
       "0    1.3\n",
       "1    2.2\n",
       "2    3.6\n",
       "dtype: float64"
      ]
     },
     "execution_count": 65,
     "metadata": {},
     "output_type": "execute_result"
    }
   ],
   "source": [
    "srs.round(1)"
   ]
  },
  {
   "cell_type": "code",
   "execution_count": null,
   "id": "14b734db-6ce3-4bbc-b340-0d80fa66bf8f",
   "metadata": {},
   "outputs": [],
   "source": []
  }
 ],
 "metadata": {
  "kernelspec": {
   "display_name": "Python 3 (ipykernel)",
   "language": "python",
   "name": "python3"
  },
  "language_info": {
   "codemirror_mode": {
    "name": "ipython",
    "version": 3
   },
   "file_extension": ".py",
   "mimetype": "text/x-python",
   "name": "python",
   "nbconvert_exporter": "python",
   "pygments_lexer": "ipython3",
   "version": "3.11.7"
  }
 },
 "nbformat": 4,
 "nbformat_minor": 5
}
